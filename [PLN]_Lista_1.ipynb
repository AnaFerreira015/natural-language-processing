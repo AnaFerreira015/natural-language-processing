{
  "nbformat": 4,
  "nbformat_minor": 0,
  "metadata": {
    "colab": {
      "provenance": [],
      "collapsed_sections": []
    },
    "kernelspec": {
      "name": "python3",
      "display_name": "Python 3"
    },
    "language_info": {
      "name": "python"
    }
  },
  "cells": [
    {
      "cell_type": "code",
      "source": [
        "import re\n",
        "import regex\n",
        "import pandas as pd\n",
        "import re\n",
        "import nltk\n",
        "import string\n",
        "import matplotlib.pyplot as plt\n",
        "import seaborn as sns"
      ],
      "metadata": {
        "id": "AFPkuOOS93Ck"
      },
      "execution_count": 21,
      "outputs": []
    },
    {
      "cell_type": "code",
      "source": [
        "nltk.download('stopwords')\n",
        "nltk.download('punkt')\n",
        "nltk.download('averaged_perceptron_tagger')"
      ],
      "metadata": {
        "colab": {
          "base_uri": "https://localhost:8080/"
        },
        "id": "OKnTsBnYGuDE",
        "outputId": "f415bb2d-f2c8-4e37-ae3f-2c53af091b93"
      },
      "execution_count": 2,
      "outputs": [
        {
          "output_type": "stream",
          "name": "stderr",
          "text": [
            "[nltk_data] Downloading package stopwords to /root/nltk_data...\n",
            "[nltk_data]   Unzipping corpora/stopwords.zip.\n",
            "[nltk_data] Downloading package punkt to /root/nltk_data...\n",
            "[nltk_data]   Unzipping tokenizers/punkt.zip.\n",
            "[nltk_data] Downloading package averaged_perceptron_tagger to\n",
            "[nltk_data]     /root/nltk_data...\n",
            "[nltk_data]   Unzipping taggers/averaged_perceptron_tagger.zip.\n"
          ]
        },
        {
          "output_type": "execute_result",
          "data": {
            "text/plain": [
              "True"
            ]
          },
          "metadata": {},
          "execution_count": 2
        }
      ]
    },
    {
      "cell_type": "code",
      "source": [
        "from google.colab import drive\n",
        "drive.mount('/content/drive')"
      ],
      "metadata": {
        "colab": {
          "base_uri": "https://localhost:8080/"
        },
        "id": "9JrWB1q89Udh",
        "outputId": "611d1af1-44d4-40d4-f2f4-4aa348f7a683"
      },
      "execution_count": 4,
      "outputs": [
        {
          "output_type": "stream",
          "name": "stdout",
          "text": [
            "Mounted at /content/drive\n"
          ]
        }
      ]
    },
    {
      "cell_type": "code",
      "source": [
        "cd '/content/drive/My Drive/Colab Notebooks/[2022.1] PLN'"
      ],
      "metadata": {
        "colab": {
          "base_uri": "https://localhost:8080/"
        },
        "id": "06HObtrV9wxx",
        "outputId": "075e6c08-f4f1-437c-beb3-542cefb0f4f9"
      },
      "execution_count": 5,
      "outputs": [
        {
          "output_type": "stream",
          "name": "stdout",
          "text": [
            "/content/drive/My Drive/Colab Notebooks/[2022.1] PLN\n"
          ]
        }
      ]
    },
    {
      "cell_type": "code",
      "source": [
        "!pwd\n",
        "!ls"
      ],
      "metadata": {
        "colab": {
          "base_uri": "https://localhost:8080/"
        },
        "id": "Ulzz_Rki901z",
        "outputId": "3a4f291f-413f-4bb3-d178-659da7d37807"
      },
      "execution_count": 6,
      "outputs": [
        {
          "output_type": "stream",
          "name": "stdout",
          "text": [
            "/content/drive/My Drive/Colab Notebooks/[2022.1] PLN\n",
            "classificador.ipynb  imdb-reviews-pt-br.csv\n"
          ]
        }
      ]
    },
    {
      "cell_type": "code",
      "source": [
        "def search_pattern_in_string(pattern, string):\n",
        "    '''\n",
        "    Returns the string from the first match of \n",
        "    `pattern` in `string`.\n",
        "    Returns \"No match\" if not found.\n",
        "    '''\n",
        "    result = re.compile(pattern).search(string)\n",
        "    if not result:\n",
        "        return \"No match\"\n",
        "    else:\n",
        "        return \"Found pattern: \" + result.group()"
      ],
      "metadata": {
        "id": "AM1vaZcVPCph"
      },
      "execution_count": 7,
      "outputs": []
    },
    {
      "cell_type": "markdown",
      "source": [
        "1. Implemente uma função usando expressões regulares que testa se um string representa um CPF no formato correto. Mostre exemplos.\n",
        "\n",
        "\n"
      ],
      "metadata": {
        "id": "TbLCXnhISq5n"
      }
    },
    {
      "cell_type": "code",
      "source": [
        "print(search_pattern_in_string(\"(\\d{3})\\.?(\\d{3})\\.?(\\d{3})\\-?(\\d{2})\", \"000.000.000-00\"))\n",
        "print(search_pattern_in_string(\"(\\d{3})\\.?(\\d{3})\\.?(\\d{3})\\-?(\\d{2})\", \"00000000000\"))\n",
        "print(search_pattern_in_string(\"(\\d{3})\\.?(\\d{3})\\.?(\\d{3})\\-?(\\d{2})\", \"000.000.000\"))"
      ],
      "metadata": {
        "colab": {
          "base_uri": "https://localhost:8080/"
        },
        "id": "j9qTrlbBPG-w",
        "outputId": "ec3811c7-6289-4afd-a466-214064124f8e"
      },
      "execution_count": 8,
      "outputs": [
        {
          "output_type": "stream",
          "name": "stdout",
          "text": [
            "Found pattern: 000.000.000-00\n",
            "Found pattern: 00000000000\n",
            "No match\n"
          ]
        }
      ]
    },
    {
      "cell_type": "markdown",
      "source": [
        "2. Implemente uma função usando expressões regulares que seja capaz, com uma  ́unica expressão regular, de extrair rua, número, apartamento (opcionalmente), bairro (opcionalmente), CEP, cidade e estado. Esta função deve ser capaz de funcionar em todos os exemplos abaixo:\n",
        "\n",
        "• Rua José da Silva, 346, Farol, CEP 57002-220. Maceió, AL.\n",
        "\n",
        "• Rua da Consolação, 9999, apt 302, Consolação, CEP 11022-202. São Paulo, SP.\n",
        "\n",
        "• Avenida Atlântica, 420, ap 1001, Copacabana, cep 22011-010. Rio de Janeiro, RJ."
      ],
      "metadata": {
        "id": "-H2mwTuWrMbu"
      }
    },
    {
      "cell_type": "code",
      "source": [
        "pattern = '([A-Za-záàãâéêíóõúç\\s]+), ?(\\d*), (apt? (\\d+), )?(([A-Za-záàãâéêíóõúç]+),)? ((cep|CEP) (\\d{5}\\-\\d{3})). ([A-Za-záàãâéêíóõúç\\s]+), ([A-Z]{2})'\n",
        "\n",
        "def verifyResult(pattern, string):\n",
        "  result = re.compile(pattern).search(string)\n",
        "  if not result:\n",
        "    print('No match\\n\\n')\n",
        "  else:\n",
        "    p = re.compile(pattern)\n",
        "    test = p.search(string)\n",
        "    print('Nome da rua: ', test.group(1), '\\nNúmero: ', test.group(2), '\\nComplemento: ' + test.group(3) if test.group(3) else '', '\\nBairro: ', test.group(5), \n",
        "          '\\nCEP: ', test.group(9), '\\nCidade: ', test.group(10), '\\nUF: ', test.group(11), '\\n\\n')\n",
        "\n",
        "verifyResult(pattern, 'Rua José da Silva, 346, Farol, CEP 57002-220. Maceió, AL.')\n",
        "verifyResult(pattern, 'Rua da Consolação, 9999, apt 302, Consolação, CEP 11022-202. São Paulo, SP.')\n",
        "verifyResult(pattern, 'Avenida Atlântica, 420, ap 1001, Copacabana, cep 22011-010. Rio de Janeiro, RJ.')"
      ],
      "metadata": {
        "colab": {
          "base_uri": "https://localhost:8080/"
        },
        "id": "WozmRUkTW1bT",
        "outputId": "8299d33d-8381-4904-9ee8-b6b877c07cf1"
      },
      "execution_count": 9,
      "outputs": [
        {
          "output_type": "stream",
          "name": "stdout",
          "text": [
            "Nome da rua:  Rua José da Silva \n",
            "Número:  346  \n",
            "Bairro:  Farol, \n",
            "CEP:  57002-220 \n",
            "Cidade:  Maceió \n",
            "UF:  AL \n",
            "\n",
            "\n",
            "Nome da rua:  Rua da Consolação \n",
            "Número:  9999 \n",
            "Complemento: apt 302,  \n",
            "Bairro:  Consolação, \n",
            "CEP:  11022-202 \n",
            "Cidade:  São Paulo \n",
            "UF:  SP \n",
            "\n",
            "\n",
            "Nome da rua:  Avenida Atlântica \n",
            "Número:  420 \n",
            "Complemento: ap 1001,  \n",
            "Bairro:  Copacabana, \n",
            "CEP:  22011-010 \n",
            "Cidade:  Rio de Janeiro \n",
            "UF:  RJ \n",
            "\n",
            "\n"
          ]
        }
      ]
    },
    {
      "cell_type": "markdown",
      "source": [
        "3. Implemente uma função usando expressões regulares que encontre todas as URLs em um string. Mostre exemplos."
      ],
      "metadata": {
        "id": "-1D_LLN-Zl7T"
      }
    },
    {
      "cell_type": "code",
      "source": [
        "pattern = '((https?)://)?(www\\.)?[a-zA-Z0-9@:%._\\+~#=]+\\.[a-zA-Z0-9]{1,6}([a-zA-Z0-9()@:%_\\+.~#?&//=]*)'\n",
        "print(search_pattern_in_string(pattern, 'domínio www.google.com usado na internet'))\n",
        "print(search_pattern_in_string(pattern, 'domínio https://www.google.com usado na internet'))\n",
        "print(search_pattern_in_string(pattern, 'domínio http://www.google.com usado na internet'))\n",
        "print(search_pattern_in_string(pattern, 'domínio google.com usado na internet'))\n",
        "\n",
        "# print(re.findall(pattern, 'domínios www.google.com e www.colab.research.google.com usados na internet'))\n"
      ],
      "metadata": {
        "colab": {
          "base_uri": "https://localhost:8080/"
        },
        "id": "fqbA4jrIVYWQ",
        "outputId": "f088ec92-4f5a-4427-f173-a821c37c4bf9"
      },
      "execution_count": 10,
      "outputs": [
        {
          "output_type": "stream",
          "name": "stdout",
          "text": [
            "Found pattern: www.google.com\n",
            "Found pattern: https://www.google.com\n",
            "Found pattern: http://www.google.com\n",
            "Found pattern: google.com\n"
          ]
        }
      ]
    },
    {
      "cell_type": "markdown",
      "source": [
        "4. Considere o seguinte exemplo de referência de livro em formato de citação APA:\n",
        "\n",
        "Manning, C. D., Manning, C. D., & Schutze, H. (1999). Foundations of statistical natural language processing. MIT press.\n",
        "\n",
        "Implemente uma função usando expressões regulares que extraia cada autor, ano de publicação, título e editora do livro, para qualquer referência de livro neste formato."
      ],
      "metadata": {
        "id": "PMSo6F_Ycfzp"
      }
    },
    {
      "cell_type": "code",
      "source": [
        "citation = \"Manning, C. D., & Schutze, H. (1999). Foundations of statistical natural language processing. MIT press.\"\n",
        "\n",
        "def patternCitation(citation):\n",
        "  lastName = \"[A-Z]\\.\"\n",
        "  firstName = \"[A-Z][a-z]+\"\n",
        "  author = f\"(?P<Autor>{firstName},?(?:\\s{lastName})+)\"\n",
        "  authorList = f\"({author})(((?:, ({author}))*(?:, & ({author})))|())\"\n",
        "  year = \"(?P<Ano>\\d+)\"\n",
        "  title = \"(?P<Título>[\\w,\\-\\s:,()]+)\"\n",
        "  publishingCompany = \"(?P<Editora>[\\w\\s:,]+)\"\n",
        "\n",
        "  pattern = regex.compile(f\"{authorList} \\({year}\\)\\. {title}\\. {publishingCompany}\\.\")\n",
        "  match = pattern.match(citation)\n",
        "  return match.capturesdict() if match else {}\n",
        "\n",
        "print(patternCitation(citation))"
      ],
      "metadata": {
        "colab": {
          "base_uri": "https://localhost:8080/"
        },
        "id": "8n4H_NxTVP0M",
        "outputId": "c0764b91-b6bf-4c6e-b930-26e02e9fac64"
      },
      "execution_count": 11,
      "outputs": [
        {
          "output_type": "stream",
          "name": "stdout",
          "text": [
            "{'Autor': ['Manning, C. D.', 'Schutze, H.'], 'Ano': ['1999'], 'Título': ['Foundations of statistical natural language processing'], 'Editora': ['MIT press']}\n"
          ]
        }
      ]
    },
    {
      "cell_type": "markdown",
      "source": [
        "5. Implemente uma função usando expressões regulares que encontre e substitua todas as datas em formato dd/mm/yyyy por mm-dd-yy. Mostre exemplos."
      ],
      "metadata": {
        "id": "np09J13Kv8jU"
      }
    },
    {
      "cell_type": "code",
      "source": [
        "chars = \"([0-9]{2})\"\n",
        "doubleChars = \"([0-9]{4})\"\n",
        "pattern = f\"{chars}\\/{chars}\\/{doubleChars}\"\n",
        "string = '25/09/2001'\n",
        "\n",
        "delimiter = \"-\"\n",
        "sub_string = re.sub(r'(\\d{2})/(\\d{2})/(\\d{4})', r'\\2-\\1-\\3', string)\n",
        "split_string = re.split(delimiter, sub_string)\n",
        "split_string[2] = split_string[2][-2:]\n",
        "string_formatted = \"-\".join(split_string)\n",
        "\n",
        "print(string_formatted)"
      ],
      "metadata": {
        "colab": {
          "base_uri": "https://localhost:8080/"
        },
        "id": "--i92hY9wCBs",
        "outputId": "ebc38cd3-235a-4396-f568-6fef74d33d2f"
      },
      "execution_count": 12,
      "outputs": [
        {
          "output_type": "stream",
          "name": "stdout",
          "text": [
            "09-25-01\n"
          ]
        }
      ]
    },
    {
      "cell_type": "markdown",
      "source": [
        "6. Determine a distribuição de comprimentos dos textos (em quantidade de caracteres), listando estas quantidades e plotando um histograma."
      ],
      "metadata": {
        "id": "fAkLb6iv9Rqg"
      }
    },
    {
      "cell_type": "code",
      "source": [
        "review = pd.read_csv('imdb-reviews-pt-br.csv')\n",
        "review.head()"
      ],
      "metadata": {
        "colab": {
          "base_uri": "https://localhost:8080/",
          "height": 206
        },
        "id": "_JIOSHL294-s",
        "outputId": "e1425eae-618f-4aff-cb4b-a24c6f3ed557"
      },
      "execution_count": 13,
      "outputs": [
        {
          "output_type": "execute_result",
          "data": {
            "text/plain": [
              "   id                                            text_en  \\\n",
              "0   1  Once again Mr. Costner has dragged out a movie...   \n",
              "1   2  This is an example of why the majority of acti...   \n",
              "2   3  First of all I hate those moronic rappers, who...   \n",
              "3   4  Not even the Beatles could write songs everyon...   \n",
              "4   5  Brass pictures movies is not a fitting word fo...   \n",
              "\n",
              "                                             text_pt sentiment  \n",
              "0  Mais uma vez, o Sr. Costner arrumou um filme p...       neg  \n",
              "1  Este é um exemplo do motivo pelo qual a maiori...       neg  \n",
              "2  Primeiro de tudo eu odeio esses raps imbecis, ...       neg  \n",
              "3  Nem mesmo os Beatles puderam escrever músicas ...       neg  \n",
              "4  Filmes de fotos de latão não é uma palavra apr...       neg  "
            ],
            "text/html": [
              "\n",
              "  <div id=\"df-9311c454-971f-416f-9d3d-4d8950aabffc\">\n",
              "    <div class=\"colab-df-container\">\n",
              "      <div>\n",
              "<style scoped>\n",
              "    .dataframe tbody tr th:only-of-type {\n",
              "        vertical-align: middle;\n",
              "    }\n",
              "\n",
              "    .dataframe tbody tr th {\n",
              "        vertical-align: top;\n",
              "    }\n",
              "\n",
              "    .dataframe thead th {\n",
              "        text-align: right;\n",
              "    }\n",
              "</style>\n",
              "<table border=\"1\" class=\"dataframe\">\n",
              "  <thead>\n",
              "    <tr style=\"text-align: right;\">\n",
              "      <th></th>\n",
              "      <th>id</th>\n",
              "      <th>text_en</th>\n",
              "      <th>text_pt</th>\n",
              "      <th>sentiment</th>\n",
              "    </tr>\n",
              "  </thead>\n",
              "  <tbody>\n",
              "    <tr>\n",
              "      <th>0</th>\n",
              "      <td>1</td>\n",
              "      <td>Once again Mr. Costner has dragged out a movie...</td>\n",
              "      <td>Mais uma vez, o Sr. Costner arrumou um filme p...</td>\n",
              "      <td>neg</td>\n",
              "    </tr>\n",
              "    <tr>\n",
              "      <th>1</th>\n",
              "      <td>2</td>\n",
              "      <td>This is an example of why the majority of acti...</td>\n",
              "      <td>Este é um exemplo do motivo pelo qual a maiori...</td>\n",
              "      <td>neg</td>\n",
              "    </tr>\n",
              "    <tr>\n",
              "      <th>2</th>\n",
              "      <td>3</td>\n",
              "      <td>First of all I hate those moronic rappers, who...</td>\n",
              "      <td>Primeiro de tudo eu odeio esses raps imbecis, ...</td>\n",
              "      <td>neg</td>\n",
              "    </tr>\n",
              "    <tr>\n",
              "      <th>3</th>\n",
              "      <td>4</td>\n",
              "      <td>Not even the Beatles could write songs everyon...</td>\n",
              "      <td>Nem mesmo os Beatles puderam escrever músicas ...</td>\n",
              "      <td>neg</td>\n",
              "    </tr>\n",
              "    <tr>\n",
              "      <th>4</th>\n",
              "      <td>5</td>\n",
              "      <td>Brass pictures movies is not a fitting word fo...</td>\n",
              "      <td>Filmes de fotos de latão não é uma palavra apr...</td>\n",
              "      <td>neg</td>\n",
              "    </tr>\n",
              "  </tbody>\n",
              "</table>\n",
              "</div>\n",
              "      <button class=\"colab-df-convert\" onclick=\"convertToInteractive('df-9311c454-971f-416f-9d3d-4d8950aabffc')\"\n",
              "              title=\"Convert this dataframe to an interactive table.\"\n",
              "              style=\"display:none;\">\n",
              "        \n",
              "  <svg xmlns=\"http://www.w3.org/2000/svg\" height=\"24px\"viewBox=\"0 0 24 24\"\n",
              "       width=\"24px\">\n",
              "    <path d=\"M0 0h24v24H0V0z\" fill=\"none\"/>\n",
              "    <path d=\"M18.56 5.44l.94 2.06.94-2.06 2.06-.94-2.06-.94-.94-2.06-.94 2.06-2.06.94zm-11 1L8.5 8.5l.94-2.06 2.06-.94-2.06-.94L8.5 2.5l-.94 2.06-2.06.94zm10 10l.94 2.06.94-2.06 2.06-.94-2.06-.94-.94-2.06-.94 2.06-2.06.94z\"/><path d=\"M17.41 7.96l-1.37-1.37c-.4-.4-.92-.59-1.43-.59-.52 0-1.04.2-1.43.59L10.3 9.45l-7.72 7.72c-.78.78-.78 2.05 0 2.83L4 21.41c.39.39.9.59 1.41.59.51 0 1.02-.2 1.41-.59l7.78-7.78 2.81-2.81c.8-.78.8-2.07 0-2.86zM5.41 20L4 18.59l7.72-7.72 1.47 1.35L5.41 20z\"/>\n",
              "  </svg>\n",
              "      </button>\n",
              "      \n",
              "  <style>\n",
              "    .colab-df-container {\n",
              "      display:flex;\n",
              "      flex-wrap:wrap;\n",
              "      gap: 12px;\n",
              "    }\n",
              "\n",
              "    .colab-df-convert {\n",
              "      background-color: #E8F0FE;\n",
              "      border: none;\n",
              "      border-radius: 50%;\n",
              "      cursor: pointer;\n",
              "      display: none;\n",
              "      fill: #1967D2;\n",
              "      height: 32px;\n",
              "      padding: 0 0 0 0;\n",
              "      width: 32px;\n",
              "    }\n",
              "\n",
              "    .colab-df-convert:hover {\n",
              "      background-color: #E2EBFA;\n",
              "      box-shadow: 0px 1px 2px rgba(60, 64, 67, 0.3), 0px 1px 3px 1px rgba(60, 64, 67, 0.15);\n",
              "      fill: #174EA6;\n",
              "    }\n",
              "\n",
              "    [theme=dark] .colab-df-convert {\n",
              "      background-color: #3B4455;\n",
              "      fill: #D2E3FC;\n",
              "    }\n",
              "\n",
              "    [theme=dark] .colab-df-convert:hover {\n",
              "      background-color: #434B5C;\n",
              "      box-shadow: 0px 1px 3px 1px rgba(0, 0, 0, 0.15);\n",
              "      filter: drop-shadow(0px 1px 2px rgba(0, 0, 0, 0.3));\n",
              "      fill: #FFFFFF;\n",
              "    }\n",
              "  </style>\n",
              "\n",
              "      <script>\n",
              "        const buttonEl =\n",
              "          document.querySelector('#df-9311c454-971f-416f-9d3d-4d8950aabffc button.colab-df-convert');\n",
              "        buttonEl.style.display =\n",
              "          google.colab.kernel.accessAllowed ? 'block' : 'none';\n",
              "\n",
              "        async function convertToInteractive(key) {\n",
              "          const element = document.querySelector('#df-9311c454-971f-416f-9d3d-4d8950aabffc');\n",
              "          const dataTable =\n",
              "            await google.colab.kernel.invokeFunction('convertToInteractive',\n",
              "                                                     [key], {});\n",
              "          if (!dataTable) return;\n",
              "\n",
              "          const docLinkHtml = 'Like what you see? Visit the ' +\n",
              "            '<a target=\"_blank\" href=https://colab.research.google.com/notebooks/data_table.ipynb>data table notebook</a>'\n",
              "            + ' to learn more about interactive tables.';\n",
              "          element.innerHTML = '';\n",
              "          dataTable['output_type'] = 'display_data';\n",
              "          await google.colab.output.renderOutput(dataTable, element);\n",
              "          const docLink = document.createElement('div');\n",
              "          docLink.innerHTML = docLinkHtml;\n",
              "          element.appendChild(docLink);\n",
              "        }\n",
              "      </script>\n",
              "    </div>\n",
              "  </div>\n",
              "  "
            ]
          },
          "metadata": {},
          "execution_count": 13
        }
      ]
    },
    {
      "cell_type": "code",
      "source": [
        "text_column = review['text_pt']\n",
        "print(f\"Size: \", review.shape, \"\\nColumns: \", list(review.columns))"
      ],
      "metadata": {
        "colab": {
          "base_uri": "https://localhost:8080/"
        },
        "id": "RmhyPdz--EjW",
        "outputId": "c36919b5-7f62-48f1-f944-30efbbea2864"
      },
      "execution_count": 14,
      "outputs": [
        {
          "output_type": "stream",
          "name": "stdout",
          "text": [
            "Size:  (49459, 4) \n",
            "Columns:  ['id', 'text_en', 'text_pt', 'sentiment']\n"
          ]
        }
      ]
    },
    {
      "cell_type": "code",
      "source": [
        "print(review.text_pt.apply(len))"
      ],
      "metadata": {
        "colab": {
          "base_uri": "https://localhost:8080/"
        },
        "id": "aRvRpIqx-4nK",
        "outputId": "9fbb3852-e3fa-4733-a930-5d850b21213f"
      },
      "execution_count": 15,
      "outputs": [
        {
          "output_type": "stream",
          "name": "stdout",
          "text": [
            "0         978\n",
            "1        1373\n",
            "2        1185\n",
            "3        1848\n",
            "4        1531\n",
            "         ... \n",
            "49454     604\n",
            "49455     356\n",
            "49456    2458\n",
            "49457    1027\n",
            "49458    1049\n",
            "Name: text_pt, Length: 49459, dtype: int64\n"
          ]
        }
      ]
    },
    {
      "cell_type": "code",
      "source": [
        "review['text_pt'].str.len().plot.hist(bins=50, range=(0,3500))\n",
        "plt.title(\"Dxistribuição de comprimentos dos textos\")\n",
        "plt.xlabel(\"Quantidade de caracteres\")\n",
        "plt.ylabel(\"Frequência dos caracteres\")\n",
        "plt.show()"
      ],
      "metadata": {
        "colab": {
          "base_uri": "https://localhost:8080/",
          "height": 295
        },
        "id": "0i8UOqRmAGOv",
        "outputId": "9cb71521-2296-4749-fe00-680043790105"
      },
      "execution_count": 16,
      "outputs": [
        {
          "output_type": "display_data",
          "data": {
            "text/plain": [
              "<Figure size 432x288 with 1 Axes>"
            ],
            "image/png": "[encoded data removed]"
          },
          "metadata": {
            "needs_background": "light"
          }
        }
      ]
    },
    {
      "cell_type": "markdown",
      "source": [
        "7. Aplique os seguintes passos de pré-processamento aos textos:\n",
        "\n",
        "\n",
        "*   Remova todas as palavras que contêm números;\n",
        "*   Converta as palavras para minúsculas;\n",
        "* Remova pontuação;\n",
        "* Tokenize os textos em palavras, gerando um dicionário  ́unico com n tokens e convertendo cada texto em um vetor de dimensão n com a respectiva contagem de palavras.\n",
        "\n",
        "Em seguida, encontre as 10 palavras mais frequentes da base de textos.\n",
        "\n"
      ],
      "metadata": {
        "id": "QuhsZDzzAay-"
      }
    },
    {
      "cell_type": "code",
      "source": [
        "def preprocessing(text_pt):\n",
        "  text_pt = re.sub(r'\\w*\\d\\w*', '', text_pt)\n",
        "  text_pt = re.sub(r'[^a-zA-Z ]', '', text_pt.lower())\n",
        "  return re.sub(r'\\s+', ' ', text_pt) "
      ],
      "metadata": {
        "id": "d8Jh9H3NA06f"
      },
      "execution_count": 17,
      "outputs": []
    },
    {
      "cell_type": "code",
      "source": [
        "review.text_pt = review.text_pt.apply(preprocessing)\n",
        "review.text_pt"
      ],
      "metadata": {
        "colab": {
          "base_uri": "https://localhost:8080/"
        },
        "id": "hVxIb4bMA6hB",
        "outputId": "d4a8012e-d49b-4d52-9fb3-3ef17a21375d"
      },
      "execution_count": 18,
      "outputs": [
        {
          "output_type": "execute_result",
          "data": {
            "text/plain": [
              "0        mais uma vez o sr costner arrumou um filme por...\n",
              "1        este um exemplo do motivo pelo qual a maioria ...\n",
              "2        primeiro de tudo eu odeio esses raps imbecis q...\n",
              "3        nem mesmo os beatles puderam escrever msicas q...\n",
              "4        filmes de fotos de lato no uma palavra apropri...\n",
              "                               ...                        \n",
              "49454    como a mdia de votos era muito baixa e o fato ...\n",
              "49455    o enredo teve algumas reviravoltas infelizes e...\n",
              "49456    estou espantado com a forma como este filme e ...\n",
              "49457    a christmas together realmente veio antes do m...\n",
              "49458    o drama romntico da classe trabalhadora do dir...\n",
              "Name: text_pt, Length: 49459, dtype: object"
            ]
          },
          "metadata": {},
          "execution_count": 18
        }
      ]
    },
    {
      "cell_type": "code",
      "source": [
        "def tokenize(raw_text: str):\n",
        "    tokenized_str = nltk.word_tokenize(raw_text)\n",
        "    tokens = [i.lower() for i in tokenized_str if i not in string.punctuation]\n",
        "    return tokens\n",
        "\n",
        "# review['tokenized'] = review.text_pt.apply(tokenize)\n",
        "review['tokenized'] = review.text_pt.apply(tokenize)"
      ],
      "metadata": {
        "id": "1seJjAbOBqAR"
      },
      "execution_count": 22,
      "outputs": []
    },
    {
      "cell_type": "code",
      "source": [
        "review"
      ],
      "metadata": {
        "colab": {
          "base_uri": "https://localhost:8080/",
          "height": 424
        },
        "id": "0noXn9W8C05b",
        "outputId": "82a74731-c1eb-42ea-fd61-233e5315d68a"
      },
      "execution_count": 23,
      "outputs": [
        {
          "output_type": "execute_result",
          "data": {
            "text/plain": [
              "          id                                            text_en  \\\n",
              "0          1  Once again Mr. Costner has dragged out a movie...   \n",
              "1          2  This is an example of why the majority of acti...   \n",
              "2          3  First of all I hate those moronic rappers, who...   \n",
              "3          4  Not even the Beatles could write songs everyon...   \n",
              "4          5  Brass pictures movies is not a fitting word fo...   \n",
              "...      ...                                                ...   \n",
              "49454  49456  Seeing as the vote average was pretty low, and...   \n",
              "49455  49457  The plot had some wretched, unbelievable twist...   \n",
              "49456  49458  I am amazed at how this movieand most others h...   \n",
              "49457  49459  A Christmas Together actually came before my t...   \n",
              "49458  49460  Working-class romantic drama from director Mar...   \n",
              "\n",
              "                                                 text_pt sentiment  \\\n",
              "0      mais uma vez o sr costner arrumou um filme por...       neg   \n",
              "1      este um exemplo do motivo pelo qual a maioria ...       neg   \n",
              "2      primeiro de tudo eu odeio esses raps imbecis q...       neg   \n",
              "3      nem mesmo os beatles puderam escrever msicas q...       neg   \n",
              "4      filmes de fotos de lato no uma palavra apropri...       neg   \n",
              "...                                                  ...       ...   \n",
              "49454  como a mdia de votos era muito baixa e o fato ...       pos   \n",
              "49455  o enredo teve algumas reviravoltas infelizes e...       pos   \n",
              "49456  estou espantado com a forma como este filme e ...       pos   \n",
              "49457  a christmas together realmente veio antes do m...       pos   \n",
              "49458  o drama romntico da classe trabalhadora do dir...       pos   \n",
              "\n",
              "                                               tokenized  \n",
              "0      [mais, uma, vez, o, sr, costner, arrumou, um, ...  \n",
              "1      [este, um, exemplo, do, motivo, pelo, qual, a,...  \n",
              "2      [primeiro, de, tudo, eu, odeio, esses, raps, i...  \n",
              "3      [nem, mesmo, os, beatles, puderam, escrever, m...  \n",
              "4      [filmes, de, fotos, de, lato, no, uma, palavra...  \n",
              "...                                                  ...  \n",
              "49454  [como, a, mdia, de, votos, era, muito, baixa, ...  \n",
              "49455  [o, enredo, teve, algumas, reviravoltas, infel...  \n",
              "49456  [estou, espantado, com, a, forma, como, este, ...  \n",
              "49457  [a, christmas, together, realmente, veio, ante...  \n",
              "49458  [o, drama, romntico, da, classe, trabalhadora,...  \n",
              "\n",
              "[49459 rows x 5 columns]"
            ],
            "text/html": [
              "\n",
              "  <div id=\"df-7ec5f686-e323-44ae-bfb6-7b33b0e00aaa\">\n",
              "    <div class=\"colab-df-container\">\n",
              "      <div>\n",
              "<style scoped>\n",
              "    .dataframe tbody tr th:only-of-type {\n",
              "        vertical-align: middle;\n",
              "    }\n",
              "\n",
              "    .dataframe tbody tr th {\n",
              "        vertical-align: top;\n",
              "    }\n",
              "\n",
              "    .dataframe thead th {\n",
              "        text-align: right;\n",
              "    }\n",
              "</style>\n",
              "<table border=\"1\" class=\"dataframe\">\n",
              "  <thead>\n",
              "    <tr style=\"text-align: right;\">\n",
              "      <th></th>\n",
              "      <th>id</th>\n",
              "      <th>text_en</th>\n",
              "      <th>text_pt</th>\n",
              "      <th>sentiment</th>\n",
              "      <th>tokenized</th>\n",
              "    </tr>\n",
              "  </thead>\n",
              "  <tbody>\n",
              "    <tr>\n",
              "      <th>0</th>\n",
              "      <td>1</td>\n",
              "      <td>Once again Mr. Costner has dragged out a movie...</td>\n",
              "      <td>mais uma vez o sr costner arrumou um filme por...</td>\n",
              "      <td>neg</td>\n",
              "      <td>[mais, uma, vez, o, sr, costner, arrumou, um, ...</td>\n",
              "    </tr>\n",
              "    <tr>\n",
              "      <th>1</th>\n",
              "      <td>2</td>\n",
              "      <td>This is an example of why the majority of acti...</td>\n",
              "      <td>este um exemplo do motivo pelo qual a maioria ...</td>\n",
              "      <td>neg</td>\n",
              "      <td>[este, um, exemplo, do, motivo, pelo, qual, a,...</td>\n",
              "    </tr>\n",
              "    <tr>\n",
              "      <th>2</th>\n",
              "      <td>3</td>\n",
              "      <td>First of all I hate those moronic rappers, who...</td>\n",
              "      <td>primeiro de tudo eu odeio esses raps imbecis q...</td>\n",
              "      <td>neg</td>\n",
              "      <td>[primeiro, de, tudo, eu, odeio, esses, raps, i...</td>\n",
              "    </tr>\n",
              "    <tr>\n",
              "      <th>3</th>\n",
              "      <td>4</td>\n",
              "      <td>Not even the Beatles could write songs everyon...</td>\n",
              "      <td>nem mesmo os beatles puderam escrever msicas q...</td>\n",
              "      <td>neg</td>\n",
              "      <td>[nem, mesmo, os, beatles, puderam, escrever, m...</td>\n",
              "    </tr>\n",
              "    <tr>\n",
              "      <th>4</th>\n",
              "      <td>5</td>\n",
              "      <td>Brass pictures movies is not a fitting word fo...</td>\n",
              "      <td>filmes de fotos de lato no uma palavra apropri...</td>\n",
              "      <td>neg</td>\n",
              "      <td>[filmes, de, fotos, de, lato, no, uma, palavra...</td>\n",
              "    </tr>\n",
              "    <tr>\n",
              "      <th>...</th>\n",
              "      <td>...</td>\n",
              "      <td>...</td>\n",
              "      <td>...</td>\n",
              "      <td>...</td>\n",
              "      <td>...</td>\n",
              "    </tr>\n",
              "    <tr>\n",
              "      <th>49454</th>\n",
              "      <td>49456</td>\n",
              "      <td>Seeing as the vote average was pretty low, and...</td>\n",
              "      <td>como a mdia de votos era muito baixa e o fato ...</td>\n",
              "      <td>pos</td>\n",
              "      <td>[como, a, mdia, de, votos, era, muito, baixa, ...</td>\n",
              "    </tr>\n",
              "    <tr>\n",
              "      <th>49455</th>\n",
              "      <td>49457</td>\n",
              "      <td>The plot had some wretched, unbelievable twist...</td>\n",
              "      <td>o enredo teve algumas reviravoltas infelizes e...</td>\n",
              "      <td>pos</td>\n",
              "      <td>[o, enredo, teve, algumas, reviravoltas, infel...</td>\n",
              "    </tr>\n",
              "    <tr>\n",
              "      <th>49456</th>\n",
              "      <td>49458</td>\n",
              "      <td>I am amazed at how this movieand most others h...</td>\n",
              "      <td>estou espantado com a forma como este filme e ...</td>\n",
              "      <td>pos</td>\n",
              "      <td>[estou, espantado, com, a, forma, como, este, ...</td>\n",
              "    </tr>\n",
              "    <tr>\n",
              "      <th>49457</th>\n",
              "      <td>49459</td>\n",
              "      <td>A Christmas Together actually came before my t...</td>\n",
              "      <td>a christmas together realmente veio antes do m...</td>\n",
              "      <td>pos</td>\n",
              "      <td>[a, christmas, together, realmente, veio, ante...</td>\n",
              "    </tr>\n",
              "    <tr>\n",
              "      <th>49458</th>\n",
              "      <td>49460</td>\n",
              "      <td>Working-class romantic drama from director Mar...</td>\n",
              "      <td>o drama romntico da classe trabalhadora do dir...</td>\n",
              "      <td>pos</td>\n",
              "      <td>[o, drama, romntico, da, classe, trabalhadora,...</td>\n",
              "    </tr>\n",
              "  </tbody>\n",
              "</table>\n",
              "<p>49459 rows × 5 columns</p>\n",
              "</div>\n",
              "      <button class=\"colab-df-convert\" onclick=\"convertToInteractive('df-7ec5f686-e323-44ae-bfb6-7b33b0e00aaa')\"\n",
              "              title=\"Convert this dataframe to an interactive table.\"\n",
              "              style=\"display:none;\">\n",
              "        \n",
              "  <svg xmlns=\"http://www.w3.org/2000/svg\" height=\"24px\"viewBox=\"0 0 24 24\"\n",
              "       width=\"24px\">\n",
              "    <path d=\"M0 0h24v24H0V0z\" fill=\"none\"/>\n",
              "    <path d=\"M18.56 5.44l.94 2.06.94-2.06 2.06-.94-2.06-.94-.94-2.06-.94 2.06-2.06.94zm-11 1L8.5 8.5l.94-2.06 2.06-.94-2.06-.94L8.5 2.5l-.94 2.06-2.06.94zm10 10l.94 2.06.94-2.06 2.06-.94-2.06-.94-.94-2.06-.94 2.06-2.06.94z\"/><path d=\"M17.41 7.96l-1.37-1.37c-.4-.4-.92-.59-1.43-.59-.52 0-1.04.2-1.43.59L10.3 9.45l-7.72 7.72c-.78.78-.78 2.05 0 2.83L4 21.41c.39.39.9.59 1.41.59.51 0 1.02-.2 1.41-.59l7.78-7.78 2.81-2.81c.8-.78.8-2.07 0-2.86zM5.41 20L4 18.59l7.72-7.72 1.47 1.35L5.41 20z\"/>\n",
              "  </svg>\n",
              "      </button>\n",
              "      \n",
              "  <style>\n",
              "    .colab-df-container {\n",
              "      display:flex;\n",
              "      flex-wrap:wrap;\n",
              "      gap: 12px;\n",
              "    }\n",
              "\n",
              "    .colab-df-convert {\n",
              "      background-color: #E8F0FE;\n",
              "      border: none;\n",
              "      border-radius: 50%;\n",
              "      cursor: pointer;\n",
              "      display: none;\n",
              "      fill: #1967D2;\n",
              "      height: 32px;\n",
              "      padding: 0 0 0 0;\n",
              "      width: 32px;\n",
              "    }\n",
              "\n",
              "    .colab-df-convert:hover {\n",
              "      background-color: #E2EBFA;\n",
              "      box-shadow: 0px 1px 2px rgba(60, 64, 67, 0.3), 0px 1px 3px 1px rgba(60, 64, 67, 0.15);\n",
              "      fill: #174EA6;\n",
              "    }\n",
              "\n",
              "    [theme=dark] .colab-df-convert {\n",
              "      background-color: #3B4455;\n",
              "      fill: #D2E3FC;\n",
              "    }\n",
              "\n",
              "    [theme=dark] .colab-df-convert:hover {\n",
              "      background-color: #434B5C;\n",
              "      box-shadow: 0px 1px 3px 1px rgba(0, 0, 0, 0.15);\n",
              "      filter: drop-shadow(0px 1px 2px rgba(0, 0, 0, 0.3));\n",
              "      fill: #FFFFFF;\n",
              "    }\n",
              "  </style>\n",
              "\n",
              "      <script>\n",
              "        const buttonEl =\n",
              "          document.querySelector('#df-7ec5f686-e323-44ae-bfb6-7b33b0e00aaa button.colab-df-convert');\n",
              "        buttonEl.style.display =\n",
              "          google.colab.kernel.accessAllowed ? 'block' : 'none';\n",
              "\n",
              "        async function convertToInteractive(key) {\n",
              "          const element = document.querySelector('#df-7ec5f686-e323-44ae-bfb6-7b33b0e00aaa');\n",
              "          const dataTable =\n",
              "            await google.colab.kernel.invokeFunction('convertToInteractive',\n",
              "                                                     [key], {});\n",
              "          if (!dataTable) return;\n",
              "\n",
              "          const docLinkHtml = 'Like what you see? Visit the ' +\n",
              "            '<a target=\"_blank\" href=https://colab.research.google.com/notebooks/data_table.ipynb>data table notebook</a>'\n",
              "            + ' to learn more about interactive tables.';\n",
              "          element.innerHTML = '';\n",
              "          dataTable['output_type'] = 'display_data';\n",
              "          await google.colab.output.renderOutput(dataTable, element);\n",
              "          const docLink = document.createElement('div');\n",
              "          docLink.innerHTML = docLinkHtml;\n",
              "          element.appendChild(docLink);\n",
              "        }\n",
              "      </script>\n",
              "    </div>\n",
              "  </div>\n",
              "  "
            ]
          },
          "metadata": {},
          "execution_count": 23
        }
      ]
    },
    {
      "cell_type": "code",
      "source": [
        "def freq_words(x, terms = 50):\n",
        "  all_words = ' '.join([text_pt for text_pt in x])\n",
        "  all_words = all_words.split()\n",
        "\n",
        "  fdist = nltk.FreqDist(all_words)\n",
        "  words_df = pd.DataFrame({'word':list(fdist.keys()), 'count':list(fdist.values())})\n",
        "\n",
        "  d = words_df.nlargest(columns=\"count\", n = terms)\n",
        "  plt.figure(figsize=(8,12))\n",
        "  ax = sns.barplot(data=d, x=\"count\", y = \"word\", color='skyblue')\n",
        "  ax.set(ylabel='word')\n",
        "  plt.show()"
      ],
      "metadata": {
        "id": "FUioOOxRC_kH"
      },
      "execution_count": 24,
      "outputs": []
    },
    {
      "cell_type": "code",
      "source": [
        "freq_words(review['text_pt'], 10)"
      ],
      "metadata": {
        "colab": {
          "base_uri": "https://localhost:8080/",
          "height": 714
        },
        "id": "GIEm6boIDFQt",
        "outputId": "2fd7c360-420f-4a6e-ccc2-25702f50f6d6"
      },
      "execution_count": 25,
      "outputs": [
        {
          "output_type": "display_data",
          "data": {
            "text/plain": [
              "<Figure size 576x864 with 1 Axes>"
            ],
            "image/png": "[encoded data removed]"
          },
          "metadata": {
            "needs_background": "light"
          }
        }
      ]
    },
    {
      "cell_type": "markdown",
      "source": [
        "8. Aplique os seguintes passos de pré-processamento aos textos processados na questão anterior:\n",
        "\n",
        "\n",
        "*   Remova stopwords;\n",
        "*   Realize rotulação de POS;\n",
        "* Realize stemização;\n",
        "\n",
        "a) Exiba os resultados em alguns textos.\n",
        "\n",
        "b) Verifique quais são as 10 palavras mais frequentes e compare com as 10 palavras mais frequentes da questão anterior.\n",
        "\n",
        "c) Repita a letra b) usando os tokens stemizados.\n",
        "\n",
        "d) Verifique quais são as classes gramaticais mais frequentes. \n",
        "\n"
      ],
      "metadata": {
        "id": "GHpBk2qKDOaF"
      }
    },
    {
      "cell_type": "code",
      "source": [
        "stop_words = set(nltk.corpus.stopwords.words('portuguese'))\n",
        "def tokenize_text(raw_text: str):\n",
        "    tokenized_str = nltk.word_tokenize(raw_text)\n",
        "    tokens = [i.lower() for i in tokenized_str if (i not in string.punctuation) and (i not in stop_words)]\n",
        "    return tokens\n",
        "\n",
        "def pos_text(sentence):\n",
        "  words = str(sentence).split(' ')\n",
        "  return nltk.pos_tag(sentence)\n",
        "\n",
        "snowball_stemmer = nltk.stem.snowball.SnowballStemmer('portuguese')\n",
        "def stem_snowball(words):\n",
        "  return ' '.join([snowball_stemmer.stem(word[0]) for word in words])"
      ],
      "metadata": {
        "id": "3IDqWWCLD0u6"
      },
      "execution_count": 27,
      "outputs": []
    },
    {
      "cell_type": "code",
      "source": [
        "review['second_tokenized'] = review.text_pt.apply(tokenize_text)\n"
      ],
      "metadata": {
        "id": "thqNAgIdHFQz"
      },
      "execution_count": 28,
      "outputs": []
    },
    {
      "cell_type": "code",
      "source": [
        "review['second_tokenized'] = review.second_tokenized.apply(pos_text)"
      ],
      "metadata": {
        "id": "rUpQRATVIv_P"
      },
      "execution_count": 29,
      "outputs": []
    },
    {
      "cell_type": "code",
      "source": [
        "review['second_tokenized'] = review.second_tokenized.apply(stem_snowball)"
      ],
      "metadata": {
        "id": "RW8__XuEIxMm"
      },
      "execution_count": 30,
      "outputs": []
    },
    {
      "cell_type": "code",
      "source": [
        "review[['tokenized', 'second_tokenized']]"
      ],
      "metadata": {
        "colab": {
          "base_uri": "https://localhost:8080/",
          "height": 424
        },
        "id": "xcg8JU78K_He",
        "outputId": "171948c1-f0b2-47a8-8cfc-f093db0d2a51"
      },
      "execution_count": 31,
      "outputs": [
        {
          "output_type": "execute_result",
          "data": {
            "text/plain": [
              "                                               tokenized  \\\n",
              "0      [mais, uma, vez, o, sr, costner, arrumou, um, ...   \n",
              "1      [este, um, exemplo, do, motivo, pelo, qual, a,...   \n",
              "2      [primeiro, de, tudo, eu, odeio, esses, raps, i...   \n",
              "3      [nem, mesmo, os, beatles, puderam, escrever, m...   \n",
              "4      [filmes, de, fotos, de, lato, no, uma, palavra...   \n",
              "...                                                  ...   \n",
              "49454  [como, a, mdia, de, votos, era, muito, baixa, ...   \n",
              "49455  [o, enredo, teve, algumas, reviravoltas, infel...   \n",
              "49456  [estou, espantado, com, a, forma, como, este, ...   \n",
              "49457  [a, christmas, together, realmente, veio, ante...   \n",
              "49458  [o, drama, romntico, da, classe, trabalhadora,...   \n",
              "\n",
              "                                        second_tokenized  \n",
              "0      vez sr costn arrum film temp necessri alm terr...  \n",
              "1      exempl motiv maior film so mesm genric chat h ...  \n",
              "2      primeir tud odei raps imbec pod agir arma pres...  \n",
              "3      beatl pud escrev msic tod gost embor walt hill...  \n",
              "4      film fot lat palavr apropri verdad so tant ous...  \n",
              "...                                                  ...  \n",
              "49454  mdi vot baix fat funcionri locador achar tud b...  \n",
              "49455  enred algum reviravolt infeliz inacreditv enta...  \n",
              "49456  espant form film maior outr mdi estrel menor h...  \n",
              "49457  christm togeth realment vei antes temp cri joh...  \n",
              "49458  dram romntic class trabalh diretor martin ritt...  \n",
              "\n",
              "[49459 rows x 2 columns]"
            ],
            "text/html": [
              "\n",
              "  <div id=\"df-768367c7-5fc1-4a3f-981b-bbfdfa44ccd5\">\n",
              "    <div class=\"colab-df-container\">\n",
              "      <div>\n",
              "<style scoped>\n",
              "    .dataframe tbody tr th:only-of-type {\n",
              "        vertical-align: middle;\n",
              "    }\n",
              "\n",
              "    .dataframe tbody tr th {\n",
              "        vertical-align: top;\n",
              "    }\n",
              "\n",
              "    .dataframe thead th {\n",
              "        text-align: right;\n",
              "    }\n",
              "</style>\n",
              "<table border=\"1\" class=\"dataframe\">\n",
              "  <thead>\n",
              "    <tr style=\"text-align: right;\">\n",
              "      <th></th>\n",
              "      <th>tokenized</th>\n",
              "      <th>second_tokenized</th>\n",
              "    </tr>\n",
              "  </thead>\n",
              "  <tbody>\n",
              "    <tr>\n",
              "      <th>0</th>\n",
              "      <td>[mais, uma, vez, o, sr, costner, arrumou, um, ...</td>\n",
              "      <td>vez sr costn arrum film temp necessri alm terr...</td>\n",
              "    </tr>\n",
              "    <tr>\n",
              "      <th>1</th>\n",
              "      <td>[este, um, exemplo, do, motivo, pelo, qual, a,...</td>\n",
              "      <td>exempl motiv maior film so mesm genric chat h ...</td>\n",
              "    </tr>\n",
              "    <tr>\n",
              "      <th>2</th>\n",
              "      <td>[primeiro, de, tudo, eu, odeio, esses, raps, i...</td>\n",
              "      <td>primeir tud odei raps imbec pod agir arma pres...</td>\n",
              "    </tr>\n",
              "    <tr>\n",
              "      <th>3</th>\n",
              "      <td>[nem, mesmo, os, beatles, puderam, escrever, m...</td>\n",
              "      <td>beatl pud escrev msic tod gost embor walt hill...</td>\n",
              "    </tr>\n",
              "    <tr>\n",
              "      <th>4</th>\n",
              "      <td>[filmes, de, fotos, de, lato, no, uma, palavra...</td>\n",
              "      <td>film fot lat palavr apropri verdad so tant ous...</td>\n",
              "    </tr>\n",
              "    <tr>\n",
              "      <th>...</th>\n",
              "      <td>...</td>\n",
              "      <td>...</td>\n",
              "    </tr>\n",
              "    <tr>\n",
              "      <th>49454</th>\n",
              "      <td>[como, a, mdia, de, votos, era, muito, baixa, ...</td>\n",
              "      <td>mdi vot baix fat funcionri locador achar tud b...</td>\n",
              "    </tr>\n",
              "    <tr>\n",
              "      <th>49455</th>\n",
              "      <td>[o, enredo, teve, algumas, reviravoltas, infel...</td>\n",
              "      <td>enred algum reviravolt infeliz inacreditv enta...</td>\n",
              "    </tr>\n",
              "    <tr>\n",
              "      <th>49456</th>\n",
              "      <td>[estou, espantado, com, a, forma, como, este, ...</td>\n",
              "      <td>espant form film maior outr mdi estrel menor h...</td>\n",
              "    </tr>\n",
              "    <tr>\n",
              "      <th>49457</th>\n",
              "      <td>[a, christmas, together, realmente, veio, ante...</td>\n",
              "      <td>christm togeth realment vei antes temp cri joh...</td>\n",
              "    </tr>\n",
              "    <tr>\n",
              "      <th>49458</th>\n",
              "      <td>[o, drama, romntico, da, classe, trabalhadora,...</td>\n",
              "      <td>dram romntic class trabalh diretor martin ritt...</td>\n",
              "    </tr>\n",
              "  </tbody>\n",
              "</table>\n",
              "<p>49459 rows × 2 columns</p>\n",
              "</div>\n",
              "      <button class=\"colab-df-convert\" onclick=\"convertToInteractive('df-768367c7-5fc1-4a3f-981b-bbfdfa44ccd5')\"\n",
              "              title=\"Convert this dataframe to an interactive table.\"\n",
              "              style=\"display:none;\">\n",
              "        \n",
              "  <svg xmlns=\"http://www.w3.org/2000/svg\" height=\"24px\"viewBox=\"0 0 24 24\"\n",
              "       width=\"24px\">\n",
              "    <path d=\"M0 0h24v24H0V0z\" fill=\"none\"/>\n",
              "    <path d=\"M18.56 5.44l.94 2.06.94-2.06 2.06-.94-2.06-.94-.94-2.06-.94 2.06-2.06.94zm-11 1L8.5 8.5l.94-2.06 2.06-.94-2.06-.94L8.5 2.5l-.94 2.06-2.06.94zm10 10l.94 2.06.94-2.06 2.06-.94-2.06-.94-.94-2.06-.94 2.06-2.06.94z\"/><path d=\"M17.41 7.96l-1.37-1.37c-.4-.4-.92-.59-1.43-.59-.52 0-1.04.2-1.43.59L10.3 9.45l-7.72 7.72c-.78.78-.78 2.05 0 2.83L4 21.41c.39.39.9.59 1.41.59.51 0 1.02-.2 1.41-.59l7.78-7.78 2.81-2.81c.8-.78.8-2.07 0-2.86zM5.41 20L4 18.59l7.72-7.72 1.47 1.35L5.41 20z\"/>\n",
              "  </svg>\n",
              "      </button>\n",
              "      \n",
              "  <style>\n",
              "    .colab-df-container {\n",
              "      display:flex;\n",
              "      flex-wrap:wrap;\n",
              "      gap: 12px;\n",
              "    }\n",
              "\n",
              "    .colab-df-convert {\n",
              "      background-color: #E8F0FE;\n",
              "      border: none;\n",
              "      border-radius: 50%;\n",
              "      cursor: pointer;\n",
              "      display: none;\n",
              "      fill: #1967D2;\n",
              "      height: 32px;\n",
              "      padding: 0 0 0 0;\n",
              "      width: 32px;\n",
              "    }\n",
              "\n",
              "    .colab-df-convert:hover {\n",
              "      background-color: #E2EBFA;\n",
              "      box-shadow: 0px 1px 2px rgba(60, 64, 67, 0.3), 0px 1px 3px 1px rgba(60, 64, 67, 0.15);\n",
              "      fill: #174EA6;\n",
              "    }\n",
              "\n",
              "    [theme=dark] .colab-df-convert {\n",
              "      background-color: #3B4455;\n",
              "      fill: #D2E3FC;\n",
              "    }\n",
              "\n",
              "    [theme=dark] .colab-df-convert:hover {\n",
              "      background-color: #434B5C;\n",
              "      box-shadow: 0px 1px 3px 1px rgba(0, 0, 0, 0.15);\n",
              "      filter: drop-shadow(0px 1px 2px rgba(0, 0, 0, 0.3));\n",
              "      fill: #FFFFFF;\n",
              "    }\n",
              "  </style>\n",
              "\n",
              "      <script>\n",
              "        const buttonEl =\n",
              "          document.querySelector('#df-768367c7-5fc1-4a3f-981b-bbfdfa44ccd5 button.colab-df-convert');\n",
              "        buttonEl.style.display =\n",
              "          google.colab.kernel.accessAllowed ? 'block' : 'none';\n",
              "\n",
              "        async function convertToInteractive(key) {\n",
              "          const element = document.querySelector('#df-768367c7-5fc1-4a3f-981b-bbfdfa44ccd5');\n",
              "          const dataTable =\n",
              "            await google.colab.kernel.invokeFunction('convertToInteractive',\n",
              "                                                     [key], {});\n",
              "          if (!dataTable) return;\n",
              "\n",
              "          const docLinkHtml = 'Like what you see? Visit the ' +\n",
              "            '<a target=\"_blank\" href=https://colab.research.google.com/notebooks/data_table.ipynb>data table notebook</a>'\n",
              "            + ' to learn more about interactive tables.';\n",
              "          element.innerHTML = '';\n",
              "          dataTable['output_type'] = 'display_data';\n",
              "          await google.colab.output.renderOutput(dataTable, element);\n",
              "          const docLink = document.createElement('div');\n",
              "          docLink.innerHTML = docLinkHtml;\n",
              "          element.appendChild(docLink);\n",
              "        }\n",
              "      </script>\n",
              "    </div>\n",
              "  </div>\n",
              "  "
            ]
          },
          "metadata": {},
          "execution_count": 31
        }
      ]
    },
    {
      "cell_type": "code",
      "source": [
        "freq_words(review['second_tokenized'], 10)\n",
        "freq_words(review['text_pt'], 10)"
      ],
      "metadata": {
        "colab": {
          "base_uri": "https://localhost:8080/",
          "height": 1000
        },
        "id": "3zH1sbnRLDoA",
        "outputId": "d864288f-dc70-43b1-b278-91f2d21e5927"
      },
      "execution_count": 32,
      "outputs": [
        {
          "output_type": "display_data",
          "data": {
            "text/plain": [
              "<Figure size 576x864 with 1 Axes>"
            ],
            "image/png": "[encoded data removed]"
          },
          "metadata": {
            "needs_background": "light"
          }
        },
        {
          "output_type": "display_data",
          "data": {
            "text/plain": [
              "<Figure size 576x864 with 1 Axes>"
            ],
            "image/png": "[encoded data removed]"
          },
          "metadata": {
            "needs_background": "light"
          }
        }
      ]
    }
  ]
}