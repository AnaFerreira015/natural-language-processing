{
  "cells": [
    {
      "cell_type": "code",
      "execution_count": 58,
      "metadata": {
        "id": "AFPkuOOS93Ck"
      },
      "outputs": [],
      "source": [
        "import pandas as pd\n",
        "import numpy as np\n",
        "import matplotlib.pyplot as plt\n",
        "import seaborn as sns\n",
        "import random\n",
        "import time\n",
        "import nltk\n",
        "import re\n",
        "from sklearn.feature_extraction.text import TfidfVectorizer\n",
        "from sklearn.decomposition import LatentDirichletAllocation, TruncatedSVD, NMF, PCA\n",
        "from sklearn.cluster import KMeans\n",
        "from bokeh.palettes import Category20\n",
        "from bokeh.plotting import figure\n",
        "from bokeh.io import output_notebook, show\n",
        "from sklearn.manifold import TSNE\n",
        "from yellowbrick.cluster import KElbowVisualizer\n",
        "from IPython.display import HTML, display\n",
        "import warnings\n",
        "warnings.filterwarnings('ignore')"
      ]
    },
    {
      "cell_type": "code",
      "source": [
        "pip install umap-learn"
      ],
      "metadata": {
        "colab": {
          "base_uri": "https://localhost:8080/"
        },
        "id": "c3cM-7ozFIjE",
        "outputId": "15fa38cd-9d8c-4c62-f2b9-27e5530c0e2d"
      },
      "execution_count": 59,
      "outputs": [
        {
          "output_type": "stream",
          "name": "stdout",
          "text": [
            "Looking in indexes: https://pypi.org/simple, https://us-python.pkg.dev/colab-wheels/public/simple/\n",
            "Collecting umap-learn\n",
            "  Downloading umap-learn-0.5.3.tar.gz (88 kB)\n",
            "\u001b[K     |████████████████████████████████| 88 kB 2.2 MB/s \n",
            "\u001b[?25hRequirement already satisfied: numpy>=1.17 in /usr/local/lib/python3.7/dist-packages (from umap-learn) (1.21.6)\n",
            "Requirement already satisfied: scikit-learn>=0.22 in /usr/local/lib/python3.7/dist-packages (from umap-learn) (1.0.2)\n",
            "Requirement already satisfied: scipy>=1.0 in /usr/local/lib/python3.7/dist-packages (from umap-learn) (1.7.3)\n",
            "Requirement already satisfied: numba>=0.49 in /usr/local/lib/python3.7/dist-packages (from umap-learn) (0.56.4)\n",
            "Collecting pynndescent>=0.5\n",
            "  Downloading pynndescent-0.5.8.tar.gz (1.1 MB)\n",
            "\u001b[K     |████████████████████████████████| 1.1 MB 33.4 MB/s \n",
            "\u001b[?25hRequirement already satisfied: tqdm in /usr/local/lib/python3.7/dist-packages (from umap-learn) (4.64.1)\n",
            "Requirement already satisfied: importlib-metadata in /usr/local/lib/python3.7/dist-packages (from numba>=0.49->umap-learn) (4.13.0)\n",
            "Requirement already satisfied: setuptools in /usr/local/lib/python3.7/dist-packages (from numba>=0.49->umap-learn) (57.4.0)\n",
            "Requirement already satisfied: llvmlite<0.40,>=0.39.0dev0 in /usr/local/lib/python3.7/dist-packages (from numba>=0.49->umap-learn) (0.39.1)\n",
            "Requirement already satisfied: joblib>=0.11 in /usr/local/lib/python3.7/dist-packages (from pynndescent>=0.5->umap-learn) (1.2.0)\n",
            "Requirement already satisfied: typing-extensions>=3.6.4 in /usr/local/lib/python3.7/dist-packages (from importlib-metadata->numba>=0.49->umap-learn) (4.1.1)\n",
            "Requirement already satisfied: zipp>=0.5 in /usr/local/lib/python3.7/dist-packages (from importlib-metadata->numba>=0.49->umap-learn) (3.10.0)\n",
            "Requirement already satisfied: threadpoolctl>=2.0.0 in /usr/local/lib/python3.7/dist-packages (from scikit-learn>=0.22->umap-learn) (3.1.0)\n",
            "Building wheels for collected packages: umap-learn, pynndescent\n",
            "  Building wheel for umap-learn (setup.py) ... \u001b[?25l\u001b[?25hdone\n",
            "  Created wheel for umap-learn: filename=umap_learn-0.5.3-py3-none-any.whl size=82830 sha256=b0e32ebd3f2e27d17236d74ac925991352dc0417dc2bc8cfd44380cc1d8e46fa\n",
            "  Stored in directory: /root/.cache/pip/wheels/b3/52/a5/1fd9e3e76a7ab34f134c07469cd6f16e27ef3a37aeff1fe821\n",
            "  Building wheel for pynndescent (setup.py) ... \u001b[?25l\u001b[?25hdone\n",
            "  Created wheel for pynndescent: filename=pynndescent-0.5.8-py3-none-any.whl size=55509 sha256=e900ddcdf566694c24a01293abb8016bc590197182e829edc15761d912c09e08\n",
            "  Stored in directory: /root/.cache/pip/wheels/19/bc/eb/974072a56a7082a302f8b4be1ad6d21bf5019235c2eff65928\n",
            "Successfully built umap-learn pynndescent\n",
            "Installing collected packages: pynndescent, umap-learn\n",
            "Successfully installed pynndescent-0.5.8 umap-learn-0.5.3\n"
          ]
        }
      ]
    },
    {
      "cell_type": "code",
      "source": [
        "import umap.umap_ as umap"
      ],
      "metadata": {
        "id": "de3eaN--FM9H"
      },
      "execution_count": 60,
      "outputs": []
    },
    {
      "cell_type": "code",
      "source": [
        "import umap"
      ],
      "metadata": {
        "id": "Gg-3G7ZiFPd6"
      },
      "execution_count": 61,
      "outputs": []
    },
    {
      "cell_type": "code",
      "execution_count": 2,
      "metadata": {
        "id": "OKnTsBnYGuDE"
      },
      "outputs": [],
      "source": [
        "import warnings\n",
        "warnings.filterwarnings('ignore')"
      ]
    },
    {
      "cell_type": "code",
      "source": [
        "nltk.download('stopwords')\n",
        "nltk.download('punkt')\n",
        "nltk.download('rslp')"
      ],
      "metadata": {
        "colab": {
          "base_uri": "https://localhost:8080/"
        },
        "id": "njoafVNa7PFm",
        "outputId": "02034075-a74e-4fda-d033-3ef990bc499b"
      },
      "execution_count": 54,
      "outputs": [
        {
          "output_type": "stream",
          "name": "stderr",
          "text": [
            "[nltk_data] Downloading package stopwords to /root/nltk_data...\n",
            "[nltk_data]   Package stopwords is already up-to-date!\n",
            "[nltk_data] Downloading package punkt to /root/nltk_data...\n",
            "[nltk_data]   Package punkt is already up-to-date!\n",
            "[nltk_data] Downloading package rslp to /root/nltk_data...\n",
            "[nltk_data]   Unzipping stemmers/rslp.zip.\n"
          ]
        },
        {
          "output_type": "execute_result",
          "data": {
            "text/plain": [
              "True"
            ]
          },
          "metadata": {},
          "execution_count": 54
        }
      ]
    },
    {
      "cell_type": "code",
      "execution_count": 4,
      "metadata": {
        "colab": {
          "base_uri": "https://localhost:8080/"
        },
        "id": "9JrWB1q89Udh",
        "outputId": "bf8e3bac-3eea-4bec-9208-2618fed53322"
      },
      "outputs": [
        {
          "output_type": "stream",
          "name": "stdout",
          "text": [
            "Mounted at /content/drive\n"
          ]
        }
      ],
      "source": [
        "from google.colab import drive\n",
        "drive.mount('/content/drive')"
      ]
    },
    {
      "cell_type": "code",
      "execution_count": 5,
      "metadata": {
        "colab": {
          "base_uri": "https://localhost:8080/"
        },
        "id": "06HObtrV9wxx",
        "outputId": "225b2ec6-0fbf-46f2-84db-2742c7a18c0d"
      },
      "outputs": [
        {
          "output_type": "stream",
          "name": "stdout",
          "text": [
            "/content/drive/My Drive/Colab Notebooks/[2022.1] PLN\n"
          ]
        }
      ],
      "source": [
        "cd '/content/drive/My Drive/Colab Notebooks/[2022.1] PLN'"
      ]
    },
    {
      "cell_type": "code",
      "execution_count": 6,
      "metadata": {
        "colab": {
          "base_uri": "https://localhost:8080/"
        },
        "id": "Ulzz_Rki901z",
        "outputId": "d81a32e2-0107-4ba5-a7fe-74405db5aacb"
      },
      "outputs": [
        {
          "output_type": "stream",
          "name": "stdout",
          "text": [
            "/content/drive/My Drive/Colab Notebooks/[2022.1] PLN\n",
            "classificador.ipynb  imdb-reviews-pt-br.csv  test_data.txt\n",
            "description.txt      test_data_solution.txt  train_data.txt\n"
          ]
        }
      ],
      "source": [
        "!pwd\n",
        "!ls"
      ]
    },
    {
      "cell_type": "markdown",
      "source": [
        "## Questão 1\n",
        "\n",
        "Escolha 10 documentos da base, e determine seu documento mais parecido (que não pode ser ele mesmo), usando:\n",
        "\n",
        "a) Representação vetorial CountVectorizer com similaridade do cosseno;\n",
        "\n",
        "b) Representação vetorial TF-IDF com similaridade do cosseno.\n",
        "\n",
        "Mostre pelo menos um trecho de cada par de documentos parecidos que justifique essa semelhança."
      ],
      "metadata": {
        "id": "UsMNkMQ87_lv"
      }
    },
    {
      "cell_type": "code",
      "source": [
        "df = pd.read_csv('train_data.txt', sep =':::', header = None, engine = 'python', nrows = 6000)\n",
        "df.columns = ['id', 'title', 'genre', 'description']\n",
        "df2 = pd.read_csv('test_data_solution.txt', sep =':::', header = None, engine = 'python', nrows = 6000)\n",
        "df2.columns = ['id', 'title', 'genre', 'description']"
      ],
      "metadata": {
        "id": "O0SigKcw7Z-S"
      },
      "execution_count": 7,
      "outputs": []
    },
    {
      "cell_type": "code",
      "source": [
        "df3 = pd.concat([df, df2], ignore_index=True)\n",
        "df3.drop('id', axis=1, inplace=True)\n",
        "comedy = df3.loc[df3['genre'].str.contains('comedy')]\n",
        "drama = df3.loc[df3['genre'].str.contains('drama')]\n",
        "dataset = pd.concat([comedy, drama], ignore_index=True)"
      ],
      "metadata": {
        "id": "B96KZl7F7ehz"
      },
      "execution_count": 8,
      "outputs": []
    },
    {
      "cell_type": "code",
      "source": [
        "def preprocess(description):\n",
        "  description = re.sub(r'\\w*\\d\\w*', '', description) \n",
        "  description = re.sub(r'[^a-zA-Z ]', '', description.lower())\n",
        "  return re.sub(r'\\s+', ' ', description)"
      ],
      "metadata": {
        "id": "gctLSpwy7hQV"
      },
      "execution_count": 9,
      "outputs": []
    },
    {
      "cell_type": "code",
      "source": [
        "dataset['description'] = dataset.description.apply(preprocess)"
      ],
      "metadata": {
        "id": "E2jL3Gz77kxn"
      },
      "execution_count": 10,
      "outputs": []
    },
    {
      "cell_type": "code",
      "source": [
        "stop_words = set(nltk.corpus.stopwords.words('english'))\n",
        "def remove_stopwords(description):\n",
        "    tokenized_text = nltk.word_tokenize(description, language='english')\n",
        "    return \" \".join([token for token in tokenized_text if token not in stop_words])"
      ],
      "metadata": {
        "id": "MqfiEnzn7oUr"
      },
      "execution_count": 11,
      "outputs": []
    },
    {
      "cell_type": "code",
      "source": [
        "dataset['description'] = dataset.description.apply(remove_stopwords)"
      ],
      "metadata": {
        "id": "UefOa1Ad7qw4"
      },
      "execution_count": 12,
      "outputs": []
    },
    {
      "cell_type": "code",
      "source": [
        "dataset"
      ],
      "metadata": {
        "colab": {
          "base_uri": "https://localhost:8080/",
          "height": 424
        },
        "id": "fbYCsyCB7ugh",
        "outputId": "315cc8df-d0da-43ea-b3b9-c356349c9eb1"
      },
      "execution_count": 13,
      "outputs": [
        {
          "output_type": "execute_result",
          "data": {
            "text/plain": [
              "                                      title     genre  \\\n",
              "0                       \"Pink Slip\" (2009)    comedy    \n",
              "1                     Babylon Vista (2001)    comedy    \n",
              "2                       Söderpojkar (1941)    comedy    \n",
              "3                     Tunnel Vision (1976)    comedy    \n",
              "4         \"The Young Professionals\" (2015)    comedy    \n",
              "...                                     ...       ...   \n",
              "4664                Hello & Goodbye (????)     drama    \n",
              "4665                  Nyab Siab Zoo (2009)     drama    \n",
              "4666   Saving the Lives of Children (2008)     drama    \n",
              "4667                      Charachar (1994)     drama    \n",
              "4668                        Juliane (2000)     drama    \n",
              "\n",
              "                                            description  \n",
              "0     tough economic times max joey run ideas discov...  \n",
              "1     frankie reno child star tv show thirty years a...  \n",
              "2     gang unemployed itinerant musicians play south...  \n",
              "3     committee investigating tvs first uncensored n...  \n",
              "4     whether blocking mouse holes running landlords...  \n",
              "...                                                 ...  \n",
              "4664  wounds still open recent end year relationship...  \n",
              "4665  death lady va chas husband two sons returns no...  \n",
              "4666  series monologues tell tales underground schoo...  \n",
              "4667  lakha comes family bird catchers questions val...  \n",
              "4668  strong willed independent juliane jensen marri...  \n",
              "\n",
              "[4669 rows x 3 columns]"
            ],
            "text/html": [
              "\n",
              "  <div id=\"df-caaf666a-8815-4a35-a816-87c52689dca6\">\n",
              "    <div class=\"colab-df-container\">\n",
              "      <div>\n",
              "<style scoped>\n",
              "    .dataframe tbody tr th:only-of-type {\n",
              "        vertical-align: middle;\n",
              "    }\n",
              "\n",
              "    .dataframe tbody tr th {\n",
              "        vertical-align: top;\n",
              "    }\n",
              "\n",
              "    .dataframe thead th {\n",
              "        text-align: right;\n",
              "    }\n",
              "</style>\n",
              "<table border=\"1\" class=\"dataframe\">\n",
              "  <thead>\n",
              "    <tr style=\"text-align: right;\">\n",
              "      <th></th>\n",
              "      <th>title</th>\n",
              "      <th>genre</th>\n",
              "      <th>description</th>\n",
              "    </tr>\n",
              "  </thead>\n",
              "  <tbody>\n",
              "    <tr>\n",
              "      <th>0</th>\n",
              "      <td>\"Pink Slip\" (2009)</td>\n",
              "      <td>comedy</td>\n",
              "      <td>tough economic times max joey run ideas discov...</td>\n",
              "    </tr>\n",
              "    <tr>\n",
              "      <th>1</th>\n",
              "      <td>Babylon Vista (2001)</td>\n",
              "      <td>comedy</td>\n",
              "      <td>frankie reno child star tv show thirty years a...</td>\n",
              "    </tr>\n",
              "    <tr>\n",
              "      <th>2</th>\n",
              "      <td>Söderpojkar (1941)</td>\n",
              "      <td>comedy</td>\n",
              "      <td>gang unemployed itinerant musicians play south...</td>\n",
              "    </tr>\n",
              "    <tr>\n",
              "      <th>3</th>\n",
              "      <td>Tunnel Vision (1976)</td>\n",
              "      <td>comedy</td>\n",
              "      <td>committee investigating tvs first uncensored n...</td>\n",
              "    </tr>\n",
              "    <tr>\n",
              "      <th>4</th>\n",
              "      <td>\"The Young Professionals\" (2015)</td>\n",
              "      <td>comedy</td>\n",
              "      <td>whether blocking mouse holes running landlords...</td>\n",
              "    </tr>\n",
              "    <tr>\n",
              "      <th>...</th>\n",
              "      <td>...</td>\n",
              "      <td>...</td>\n",
              "      <td>...</td>\n",
              "    </tr>\n",
              "    <tr>\n",
              "      <th>4664</th>\n",
              "      <td>Hello &amp; Goodbye (????)</td>\n",
              "      <td>drama</td>\n",
              "      <td>wounds still open recent end year relationship...</td>\n",
              "    </tr>\n",
              "    <tr>\n",
              "      <th>4665</th>\n",
              "      <td>Nyab Siab Zoo (2009)</td>\n",
              "      <td>drama</td>\n",
              "      <td>death lady va chas husband two sons returns no...</td>\n",
              "    </tr>\n",
              "    <tr>\n",
              "      <th>4666</th>\n",
              "      <td>Saving the Lives of Children (2008)</td>\n",
              "      <td>drama</td>\n",
              "      <td>series monologues tell tales underground schoo...</td>\n",
              "    </tr>\n",
              "    <tr>\n",
              "      <th>4667</th>\n",
              "      <td>Charachar (1994)</td>\n",
              "      <td>drama</td>\n",
              "      <td>lakha comes family bird catchers questions val...</td>\n",
              "    </tr>\n",
              "    <tr>\n",
              "      <th>4668</th>\n",
              "      <td>Juliane (2000)</td>\n",
              "      <td>drama</td>\n",
              "      <td>strong willed independent juliane jensen marri...</td>\n",
              "    </tr>\n",
              "  </tbody>\n",
              "</table>\n",
              "<p>4669 rows × 3 columns</p>\n",
              "</div>\n",
              "      <button class=\"colab-df-convert\" onclick=\"convertToInteractive('df-caaf666a-8815-4a35-a816-87c52689dca6')\"\n",
              "              title=\"Convert this dataframe to an interactive table.\"\n",
              "              style=\"display:none;\">\n",
              "        \n",
              "  <svg xmlns=\"http://www.w3.org/2000/svg\" height=\"24px\"viewBox=\"0 0 24 24\"\n",
              "       width=\"24px\">\n",
              "    <path d=\"M0 0h24v24H0V0z\" fill=\"none\"/>\n",
              "    <path d=\"M18.56 5.44l.94 2.06.94-2.06 2.06-.94-2.06-.94-.94-2.06-.94 2.06-2.06.94zm-11 1L8.5 8.5l.94-2.06 2.06-.94-2.06-.94L8.5 2.5l-.94 2.06-2.06.94zm10 10l.94 2.06.94-2.06 2.06-.94-2.06-.94-.94-2.06-.94 2.06-2.06.94z\"/><path d=\"M17.41 7.96l-1.37-1.37c-.4-.4-.92-.59-1.43-.59-.52 0-1.04.2-1.43.59L10.3 9.45l-7.72 7.72c-.78.78-.78 2.05 0 2.83L4 21.41c.39.39.9.59 1.41.59.51 0 1.02-.2 1.41-.59l7.78-7.78 2.81-2.81c.8-.78.8-2.07 0-2.86zM5.41 20L4 18.59l7.72-7.72 1.47 1.35L5.41 20z\"/>\n",
              "  </svg>\n",
              "      </button>\n",
              "      \n",
              "  <style>\n",
              "    .colab-df-container {\n",
              "      display:flex;\n",
              "      flex-wrap:wrap;\n",
              "      gap: 12px;\n",
              "    }\n",
              "\n",
              "    .colab-df-convert {\n",
              "      background-color: #E8F0FE;\n",
              "      border: none;\n",
              "      border-radius: 50%;\n",
              "      cursor: pointer;\n",
              "      display: none;\n",
              "      fill: #1967D2;\n",
              "      height: 32px;\n",
              "      padding: 0 0 0 0;\n",
              "      width: 32px;\n",
              "    }\n",
              "\n",
              "    .colab-df-convert:hover {\n",
              "      background-color: #E2EBFA;\n",
              "      box-shadow: 0px 1px 2px rgba(60, 64, 67, 0.3), 0px 1px 3px 1px rgba(60, 64, 67, 0.15);\n",
              "      fill: #174EA6;\n",
              "    }\n",
              "\n",
              "    [theme=dark] .colab-df-convert {\n",
              "      background-color: #3B4455;\n",
              "      fill: #D2E3FC;\n",
              "    }\n",
              "\n",
              "    [theme=dark] .colab-df-convert:hover {\n",
              "      background-color: #434B5C;\n",
              "      box-shadow: 0px 1px 3px 1px rgba(0, 0, 0, 0.15);\n",
              "      filter: drop-shadow(0px 1px 2px rgba(0, 0, 0, 0.3));\n",
              "      fill: #FFFFFF;\n",
              "    }\n",
              "  </style>\n",
              "\n",
              "      <script>\n",
              "        const buttonEl =\n",
              "          document.querySelector('#df-caaf666a-8815-4a35-a816-87c52689dca6 button.colab-df-convert');\n",
              "        buttonEl.style.display =\n",
              "          google.colab.kernel.accessAllowed ? 'block' : 'none';\n",
              "\n",
              "        async function convertToInteractive(key) {\n",
              "          const element = document.querySelector('#df-caaf666a-8815-4a35-a816-87c52689dca6');\n",
              "          const dataTable =\n",
              "            await google.colab.kernel.invokeFunction('convertToInteractive',\n",
              "                                                     [key], {});\n",
              "          if (!dataTable) return;\n",
              "\n",
              "          const docLinkHtml = 'Like what you see? Visit the ' +\n",
              "            '<a target=\"_blank\" href=https://colab.research.google.com/notebooks/data_table.ipynb>data table notebook</a>'\n",
              "            + ' to learn more about interactive tables.';\n",
              "          element.innerHTML = '';\n",
              "          dataTable['output_type'] = 'display_data';\n",
              "          await google.colab.output.renderOutput(dataTable, element);\n",
              "          const docLink = document.createElement('div');\n",
              "          docLink.innerHTML = docLinkHtml;\n",
              "          element.appendChild(docLink);\n",
              "        }\n",
              "      </script>\n",
              "    </div>\n",
              "  </div>\n",
              "  "
            ]
          },
          "metadata": {},
          "execution_count": 13
        }
      ]
    },
    {
      "cell_type": "code",
      "source": [
        "tfidf_X = TfidfVectorizer().fit_transform(dataset.description)\n",
        "count_X = CountVectorizer().fit_transform(dataset.description)\n",
        "\n",
        "tfidf_similarity_matrix = cosine_similarity(tfidf_X)\n",
        "count_similarity_matrix = cosine_similarity(count_X)"
      ],
      "metadata": {
        "id": "mN3ZY1Gl7zza"
      },
      "execution_count": 14,
      "outputs": []
    },
    {
      "cell_type": "code",
      "source": [
        "np.fill_diagonal(tfidf_similarity_matrix, 0.0)\n",
        "np.fill_diagonal(count_similarity_matrix, 0.0)\n",
        "\n",
        "result = [\n",
        "    {\n",
        "        'doc': dataset.iloc[i],\n",
        "        'tfidf_similar_doc': dataset.iloc[tfidf_similarity_matrix[i, :].argmax()],\n",
        "        'tfidf_similarity': tfidf_similarity_matrix[i, :].max(),\n",
        "        'count_similar_doc': dataset.iloc[count_similarity_matrix[i, :].argmax()],\n",
        "        'count_similarity': count_similarity_matrix[i, :].max(),\n",
        "    }\n",
        "    for i in [random.randint(0, len(dataset)) for _ in range(10)]\n",
        "]"
      ],
      "metadata": {
        "id": "NObvN3cL71-l"
      },
      "execution_count": 15,
      "outputs": []
    },
    {
      "cell_type": "code",
      "source": [
        "%%html\n",
        "<style>\n",
        "    .col {\n",
        "        height: 100%;\n",
        "        padding-left: 16px;\n",
        "        padding-right: 16px;\n",
        "        padding-top: 8px;\n",
        "        padding-bottom: 8px;\n",
        "    }\n",
        "style>"
      ],
      "metadata": {
        "colab": {
          "base_uri": "https://localhost:8080/",
          "height": 17
        },
        "id": "_6m8HaD774Iy",
        "outputId": "ec1f0a17-db33-4736-dce8-552959640f63"
      },
      "execution_count": 16,
      "outputs": [
        {
          "output_type": "display_data",
          "data": {
            "text/plain": [
              "<IPython.core.display.HTML object>"
            ],
            "text/html": [
              "<style>\n",
              "    .col {\n",
              "        height: 100%;\n",
              "        padding-left: 16px;\n",
              "        padding-right: 16px;\n",
              "        padding-top: 8px;\n",
              "        padding-bottom: 8px;\n",
              "    }\n",
              "style>\n"
            ]
          },
          "metadata": {}
        }
      ]
    },
    {
      "cell_type": "markdown",
      "source": [
        "### 1.a) Representação vetorial CountVectorizer com similaridade do cosseno;\n",
        "\n",
        "### 1.b) Representação vetorial TF-IDF com similaridade do cosseno."
      ],
      "metadata": {
        "id": "Fxb5ILkK8JSz"
      }
    },
    {
      "cell_type": "code",
      "source": [
        "for r in result:\n",
        "    title = r['doc'].title if r['doc'].title != '' else r['doc'].description[:150] + '...'\n",
        "    movie = '<span>%(title)s</span> <span>%(description)s</span>' \n",
        "    desc_length = 300\n",
        "    \n",
        "    tfidf_content = movie % ({\n",
        "        'title': r['tfidf_similar_doc'].title,\n",
        "        'description': r['tfidf_similar_doc'].description[:desc_length] + '...',\n",
        "    })\n",
        "    count_content = movie % ({ \n",
        "        'title': r['count_similar_doc'].title,\n",
        "        'description': r['count_similar_doc'].description[:desc_length] + '...',\n",
        "    })\n",
        "    \n",
        "    display(HTML('''\n",
        "    <div style=\"margin: 8px; border: 1px solid lightgray\">\n",
        "        <div style=\"text-align: center;background-color: whitesmoke;padding: 8px\"><u r['doc'].title >''' + title + '''</u></div>\n",
        "        <div>\n",
        "            <div>\n",
        "                <div class=\"col\">\n",
        "                <div><strong>TfidfVectorizer: </strong>''' + str(r['tfidf_similarity'])[:6] + '''</div>\n",
        "                <div>''' + tfidf_content + '''</div>\n",
        "                </div>\n",
        "            </div>\n",
        "            <div>\n",
        "                <div class=\"col\">\n",
        "                <div><strong>CountVectorizer: </strong>''' + str(r['count_similarity'])[:6] + '''</div>\n",
        "                <div>''' + count_content + '''</div>\n",
        "                </div>\n",
        "            </div>\n",
        "        </div>\n",
        "    </div>\n",
        "    '''))"
      ],
      "metadata": {
        "colab": {
          "base_uri": "https://localhost:8080/",
          "height": 1000
        },
        "id": "f6G9HLMn8MIU",
        "outputId": "c456856a-61e8-4d94-8220-0fb8741f0676"
      },
      "execution_count": 18,
      "outputs": [
        {
          "output_type": "display_data",
          "data": {
            "text/plain": [
              "<IPython.core.display.HTML object>"
            ],
            "text/html": [
              "\n",
              "    <div style=\"margin: 8px; border: 1px solid lightgray\">\n",
              "        <div style=\"text-align: center;background-color: whitesmoke;padding: 8px\"><u r['doc'].title > \"Pump\" (????) </u></div>\n",
              "        <div>\n",
              "            <div>\n",
              "                <div class=\"col\">\n",
              "                <div><strong>TfidfVectorizer: </strong>0.0754</div>\n",
              "                <div><span> The Rex (????) </span> <span>rex tells amazing story tony cornero notorious bootlegger organized crime front man fleet floating casinos hugely popular people california considered moral scourge california attorney general earl warren clashing opposite passions fueled money murder lavish gambling entertainment activities reputab...</span></div>\n",
              "                </div>\n",
              "            </div>\n",
              "            <div>\n",
              "                <div class=\"col\">\n",
              "                <div><strong>CountVectorizer: </strong>0.1147</div>\n",
              "                <div><span> Hallucination Generation (1966) </span> <span>drama set spain small group american young adults living leader group drug dealer others living carefree lives beatniks leader nefarious aims mind uses drugs lure others lives crime film black white psychedelic sequence depicting purported effects group using lsd filmed color purportedly intended wa...</span></div>\n",
              "                </div>\n",
              "            </div>\n",
              "        </div>\n",
              "    </div>\n",
              "    "
            ]
          },
          "metadata": {}
        },
        {
          "output_type": "display_data",
          "data": {
            "text/plain": [
              "<IPython.core.display.HTML object>"
            ],
            "text/html": [
              "\n",
              "    <div style=\"margin: 8px; border: 1px solid lightgray\">\n",
              "        <div style=\"text-align: center;background-color: whitesmoke;padding: 8px\"><u r['doc'].title > Cotton Mary (1999) </u></div>\n",
              "        <div>\n",
              "            <div>\n",
              "                <div class=\"col\">\n",
              "                <div><strong>TfidfVectorizer: </strong>0.2538</div>\n",
              "                <div><span> Emotional Backgammon (2003) </span> <span>john thinks life perfect hes considers solid relationship girlfriend mary job tailor suits ground put icing cake hes ask mary marry dinner john cooked especially ring ready marys hand john unprepared mary announcing shes leaving find...</span></div>\n",
              "                </div>\n",
              "            </div>\n",
              "            <div>\n",
              "                <div class=\"col\">\n",
              "                <div><strong>CountVectorizer: </strong>0.3023</div>\n",
              "                <div><span> Emotional Backgammon (2003) </span> <span>john thinks life perfect hes considers solid relationship girlfriend mary job tailor suits ground put icing cake hes ask mary marry dinner john cooked especially ring ready marys hand john unprepared mary announcing shes leaving find...</span></div>\n",
              "                </div>\n",
              "            </div>\n",
              "        </div>\n",
              "    </div>\n",
              "    "
            ]
          },
          "metadata": {}
        },
        {
          "output_type": "display_data",
          "data": {
            "text/plain": [
              "<IPython.core.display.HTML object>"
            ],
            "text/html": [
              "\n",
              "    <div style=\"margin: 8px; border: 1px solid lightgray\">\n",
              "        <div style=\"text-align: center;background-color: whitesmoke;padding: 8px\"><u r['doc'].title > Kesher Ir (1999) </u></div>\n",
              "        <div>\n",
              "            <div>\n",
              "                <div class=\"col\">\n",
              "                <div><strong>TfidfVectorizer: </strong>0.1388</div>\n",
              "                <div><span> Desperate Measures (2009) </span> <span>lee ekow smithasante fashion designer married eva nikkinikoletta samonas nurse lee thinks ladies love married three years always cheats wife lee pushes eva take bite devils apple little expect getting back thrown wall everything escalates control leading unscrupulous behavior surprises put armor bat...</span></div>\n",
              "                </div>\n",
              "            </div>\n",
              "            <div>\n",
              "                <div class=\"col\">\n",
              "                <div><strong>CountVectorizer: </strong>0.1319</div>\n",
              "                <div><span> Ovoce stromu rajských jíme (1970) </span> <span>garden pension eva husband josef enjoying siesta meet lonesome mysteriouslooking robert play key falls roberts pocket curious eva picks sets expedition roberts room finds briefcase soiled mud robert forgotten parsley patch datestamp soon afterwards learns another victim unknown murderer women found ...</span></div>\n",
              "                </div>\n",
              "            </div>\n",
              "        </div>\n",
              "    </div>\n",
              "    "
            ]
          },
          "metadata": {}
        },
        {
          "output_type": "display_data",
          "data": {
            "text/plain": [
              "<IPython.core.display.HTML object>"
            ],
            "text/html": [
              "\n",
              "    <div style=\"margin: 8px; border: 1px solid lightgray\">\n",
              "        <div style=\"text-align: center;background-color: whitesmoke;padding: 8px\"><u r['doc'].title > \"The David Steinberg Show\" (1972) </u></div>\n",
              "        <div>\n",
              "            <div>\n",
              "                <div class=\"col\">\n",
              "                <div><strong>TfidfVectorizer: </strong>0.1435</div>\n",
              "                <div><span> \"Delusions of Grandeur\" (2012) </span> <span>jake kicks episode homage garry shandling show see jake interacts writing producing staff show incidentally created show isnt real people meanwhile feeling healthy current juice cleanse jake accompanies caitlin gym...</span></div>\n",
              "                </div>\n",
              "            </div>\n",
              "            <div>\n",
              "                <div class=\"col\">\n",
              "                <div><strong>CountVectorizer: </strong>0.2087</div>\n",
              "                <div><span> Best in Show (2000) </span> <span>owners handlers five show dogs head mayflower kennel club dog show film crew interviews prepare trip arrive phillys taft hotel compete florida come flecks keeps running old lovers wordless ancient wheelchair buxom trophy wife may thing dogs handler twotime defending best show poodle piney woods nc c...</span></div>\n",
              "                </div>\n",
              "            </div>\n",
              "        </div>\n",
              "    </div>\n",
              "    "
            ]
          },
          "metadata": {}
        },
        {
          "output_type": "display_data",
          "data": {
            "text/plain": [
              "<IPython.core.display.HTML object>"
            ],
            "text/html": [
              "\n",
              "    <div style=\"margin: 8px; border: 1px solid lightgray\">\n",
              "        <div style=\"text-align: center;background-color: whitesmoke;padding: 8px\"><u r['doc'].title > A Grande Vedete (1958) </u></div>\n",
              "        <div>\n",
              "            <div>\n",
              "                <div class=\"col\">\n",
              "                <div><strong>TfidfVectorizer: </strong>0.1206</div>\n",
              "                <div><span> CollegeHumor's Comedy Music Hall of Fame (2015) </span> <span>ifc collegehumor come together create celebration comedy music fans waiting forcollegehumors comedy music hall fame hosted paul f tompkins hourlong special honors comedy musical acts features new original music videos...</span></div>\n",
              "                </div>\n",
              "            </div>\n",
              "            <div>\n",
              "                <div class=\"col\">\n",
              "                <div><strong>CountVectorizer: </strong>0.1825</div>\n",
              "                <div><span> The Idle Rich (1929) </span> <span>millionaire william van luyn falls love secretary joan thayer marries family part great middle class blowhard nephew henry keeps reminding us happy joan reluctant take charity moves keep resisting one day takes drastic action...</span></div>\n",
              "                </div>\n",
              "            </div>\n",
              "        </div>\n",
              "    </div>\n",
              "    "
            ]
          },
          "metadata": {}
        },
        {
          "output_type": "display_data",
          "data": {
            "text/plain": [
              "<IPython.core.display.HTML object>"
            ],
            "text/html": [
              "\n",
              "    <div style=\"margin: 8px; border: 1px solid lightgray\">\n",
              "        <div style=\"text-align: center;background-color: whitesmoke;padding: 8px\"><u r['doc'].title > \"Betty & DD\" (2010) </u></div>\n",
              "        <div>\n",
              "            <div>\n",
              "                <div class=\"col\">\n",
              "                <div><strong>TfidfVectorizer: </strong>0.1357</div>\n",
              "                <div><span> Black Eyed Dog (2006) </span> <span>shocking series crimes occur community along miramichi river life betty waitress thirties takes unexpected turn make debut singer world stage hometown planning leave long time...</span></div>\n",
              "                </div>\n",
              "            </div>\n",
              "            <div>\n",
              "                <div class=\"col\">\n",
              "                <div><strong>CountVectorizer: </strong>0.2390</div>\n",
              "                <div><span> The Sainted Sisters (1948) </span> <span>two female con artists new york city fleeing law loot latest scam hide small maine town near canadian border however residents small town arent quite unsophisticated girls think...</span></div>\n",
              "                </div>\n",
              "            </div>\n",
              "        </div>\n",
              "    </div>\n",
              "    "
            ]
          },
          "metadata": {}
        },
        {
          "output_type": "display_data",
          "data": {
            "text/plain": [
              "<IPython.core.display.HTML object>"
            ],
            "text/html": [
              "\n",
              "    <div style=\"margin: 8px; border: 1px solid lightgray\">\n",
              "        <div style=\"text-align: center;background-color: whitesmoke;padding: 8px\"><u r['doc'].title > Nong Teng Nakleng-pukaotong (2006) </u></div>\n",
              "        <div>\n",
              "            <div>\n",
              "                <div class=\"col\">\n",
              "                <div><strong>TfidfVectorizer: </strong>0.1260</div>\n",
              "                <div><span> The Pee Wee Herman Show (1981) </span> <span>adultoriented version would eventually become awardwinning childrens classic version show features peewees playhouse many characters later series adult sexual overtones jokes including mirror shoes others...</span></div>\n",
              "                </div>\n",
              "            </div>\n",
              "            <div>\n",
              "                <div class=\"col\">\n",
              "                <div><strong>CountVectorizer: </strong>0.1693</div>\n",
              "                <div><span> Kaokiri (2016) </span> <span>team writing script incident japan face actor hayashi chojiro cut razor arguing incident scandal argument becomes heated actor playing assistant director abandons crew lead actress also threatening...</span></div>\n",
              "                </div>\n",
              "            </div>\n",
              "        </div>\n",
              "    </div>\n",
              "    "
            ]
          },
          "metadata": {}
        },
        {
          "output_type": "display_data",
          "data": {
            "text/plain": [
              "<IPython.core.display.HTML object>"
            ],
            "text/html": [
              "\n",
              "    <div style=\"margin: 8px; border: 1px solid lightgray\">\n",
              "        <div style=\"text-align: center;background-color: whitesmoke;padding: 8px\"><u r['doc'].title > Five Days Gone (2010) </u></div>\n",
              "        <div>\n",
              "            <div>\n",
              "                <div class=\"col\">\n",
              "                <div><strong>TfidfVectorizer: </strong>0.1179</div>\n",
              "                <div><span> Koodevide? (1983) </span> <span>alice lives brother teacher convent school ooty neglected unruly son mp xavier puthooran joins school alices class alice manages turn prize student boy friend capt thomas feels intensely jealous attention alice bestows upon ravi kills boy apparently accident later surrenders police leaving alice fru...</span></div>\n",
              "                </div>\n",
              "            </div>\n",
              "            <div>\n",
              "                <div class=\"col\">\n",
              "                <div><strong>CountVectorizer: </strong>0.1490</div>\n",
              "                <div><span> Bambieffekten (2011) </span> <span>two girls meet internet veronica cecilie carrying different stories common goal disappear meet go weekend trip veronicas hyper modern family summer house trip none planning return bring along camera document everything intention leave behind goodbyetape bambi effect girls recordings...</span></div>\n",
              "                </div>\n",
              "            </div>\n",
              "        </div>\n",
              "    </div>\n",
              "    "
            ]
          },
          "metadata": {}
        },
        {
          "output_type": "display_data",
          "data": {
            "text/plain": [
              "<IPython.core.display.HTML object>"
            ],
            "text/html": [
              "\n",
              "    <div style=\"margin: 8px; border: 1px solid lightgray\">\n",
              "        <div style=\"text-align: center;background-color: whitesmoke;padding: 8px\"><u r['doc'].title > La casa loca (2007) </u></div>\n",
              "        <div>\n",
              "            <div>\n",
              "                <div class=\"col\">\n",
              "                <div><strong>TfidfVectorizer: </strong>0.1225</div>\n",
              "                <div><span> Glory Days (1988) </span> <span>married middle age man two children college also didnt finish college decides go enroll kids college also decides try football makes team becomes phenom causes friction son also trouble wife wants quit team chooses stay...</span></div>\n",
              "                </div>\n",
              "            </div>\n",
              "            <div>\n",
              "                <div class=\"col\">\n",
              "                <div><strong>CountVectorizer: </strong>0.1995</div>\n",
              "                <div><span> The New 20s: Episodes 1 (2009) </span> <span>years college chrystal winters myers wakes realizes life changed instead wild dreams future youth finds passionless marriage writing career going nowhere looks friends college realizes going transitions navigating lifes trials triumphs dealing real world issues faced college even chrystal defeats wr...</span></div>\n",
              "                </div>\n",
              "            </div>\n",
              "        </div>\n",
              "    </div>\n",
              "    "
            ]
          },
          "metadata": {}
        },
        {
          "output_type": "display_data",
          "data": {
            "text/plain": [
              "<IPython.core.display.HTML object>"
            ],
            "text/html": [
              "\n",
              "    <div style=\"margin: 8px; border: 1px solid lightgray\">\n",
              "        <div style=\"text-align: center;background-color: whitesmoke;padding: 8px\"><u r['doc'].title > O.Y.S. (????) </u></div>\n",
              "        <div>\n",
              "            <div>\n",
              "                <div class=\"col\">\n",
              "                <div><strong>TfidfVectorizer: </strong>0.0940</div>\n",
              "                <div><span> Gospel Good, Gospel Bad, Gospel Ugly (2012) </span> <span>robert chestnut lead singer quartet gospel group must get group signed major record label navigating setbacks flaws key members characters well personal lives deal personal tragedy robert possesses tremendous capacity finding ways help others attempting repair faltering marriage estranged wife overc...</span></div>\n",
              "                </div>\n",
              "            </div>\n",
              "            <div>\n",
              "                <div class=\"col\">\n",
              "                <div><strong>CountVectorizer: </strong>0.1503</div>\n",
              "                <div><span> Gospel Good, Gospel Bad, Gospel Ugly (2012) </span> <span>robert chestnut lead singer quartet gospel group must get group signed major record label navigating setbacks flaws key members characters well personal lives deal personal tragedy robert possesses tremendous capacity finding ways help others attempting repair faltering marriage estranged wife overc...</span></div>\n",
              "                </div>\n",
              "            </div>\n",
              "        </div>\n",
              "    </div>\n",
              "    "
            ]
          },
          "metadata": {}
        }
      ]
    },
    {
      "cell_type": "markdown",
      "source": [
        "## Questão 2\n",
        "\n",
        "Elabore um problema de classificação binária de textos coerente com sua\n",
        "base.\n",
        "\n",
        "a) Determine o rótulo dos documentos (separando os documentos em classes\n",
        "bem definidas).\n",
        "\n",
        "b) Extraia as representações vetoriais com CountVectorizer e TF-IDF.\n",
        "\n",
        "c) Treine um classificador baseado em cada uma das duas representações vetoriais e Regressão Logística usando validação cruzada com 70% das amostras selecionadas para treino e 30% para teste. Exiba as matrizes de confusão,\n",
        "métricas de acurácia, precisão, recall e F1 score.\n",
        "\n",
        "d) Faça o mesmo para o classificador Naive-Bayes.\n",
        "\n",
        "e) Faça o mesmo para um outro classificador de sua preferência (pesquise na\n",
        "biblioteca Scikit-learn).\n",
        "\n",
        "f) Compare os 6 resultados.\n"
      ],
      "metadata": {
        "id": "9Do7toUA8_TF"
      }
    },
    {
      "cell_type": "markdown",
      "source": [
        "### 2.a) Determine o rótulo dos documentos (separando os documentos em classes bem definidas)."
      ],
      "metadata": {
        "id": "MOPK_9_r9PpE"
      }
    },
    {
      "cell_type": "code",
      "source": [
        "lbl_to_ind = {\n",
        "    ' comedy ': 0, ' drama ': 1, \n",
        "}\n",
        "y = [lbl_to_ind[l] for l in dataset.genre.values[:4669]]"
      ],
      "metadata": {
        "id": "_W3GO4pJ9QkD"
      },
      "execution_count": 19,
      "outputs": []
    },
    {
      "cell_type": "markdown",
      "source": [
        "### 2.b) Extraia as representações vetoriais com CountVectorizer e TF-IDF."
      ],
      "metadata": {
        "id": "08LhqcRx9YuB"
      }
    },
    {
      "cell_type": "code",
      "source": [
        "tfidf_X_train, tfidf_X_test, tfidf_y_train, tfidf_y_test = train_test_split(tfidf_X, y, test_size=0.3)\n",
        "count_X_train, count_X_test, count_y_train, count_y_test = train_test_split(count_X, y, test_size=0.3)"
      ],
      "metadata": {
        "id": "0xYPFGEA9XiO"
      },
      "execution_count": 20,
      "outputs": []
    },
    {
      "cell_type": "markdown",
      "source": [
        "### 2.c) Treine um classificador baseado em cada uma das duas representações vetoriais e Regressão Logística usando validação cruzada com 70% das amostras selecionadas para treino e 30% para teste. Exiba as matrizes de confusão, métricas de acurácia, precisão, recall e F1 score."
      ],
      "metadata": {
        "id": "p5q14Xz99cu8"
      }
    },
    {
      "cell_type": "code",
      "source": [
        "cl = LogisticRegression().fit(tfidf_X_train.toarray(), tfidf_y_train)\n",
        "tfidf_y_pred = cl.predict(tfidf_X_test.toarray())"
      ],
      "metadata": {
        "id": "6oISxvQ89sim"
      },
      "execution_count": 21,
      "outputs": []
    },
    {
      "cell_type": "code",
      "source": [
        "plot_confusion_matrix(cl, tfidf_X_test.toarray(), tfidf_y_test)\n",
        "plt.show()"
      ],
      "metadata": {
        "colab": {
          "base_uri": "https://localhost:8080/",
          "height": 279
        },
        "id": "UFp0YxPe96wx",
        "outputId": "cbc6df63-b526-4ae6-f1c6-f88992b3c2ae"
      },
      "execution_count": 22,
      "outputs": [
        {
          "output_type": "display_data",
          "data": {
            "text/plain": [
              "<Figure size 432x288 with 2 Axes>"
            ],
            "image/png": "[encoded data removed]"
          },
          "metadata": {
            "needs_background": "light"
          }
        }
      ]
    },
    {
      "cell_type": "code",
      "source": [
        "accuracy_lr_tfidf = accuracy_score(tfidf_y_test, tfidf_y_pred)\n",
        "precision_lr_tfidf = precision_score(tfidf_y_test, tfidf_y_pred)\n",
        "recall_lr_tfidf = recall_score(tfidf_y_test, tfidf_y_pred)\n",
        "f1_lr_tfidf = f1_score(tfidf_y_test, tfidf_y_pred)\n",
        "\n",
        "print(\"Regressão Logísitca e TF-IDF\\nAcurácia: {}\\nPrecisão: {}\\nRecall: {}\\nF1 Score: {}\\n\".format(accuracy_lr_tfidf, precision_lr_tfidf, recall_lr_tfidf, f1_lr_tfidf))"
      ],
      "metadata": {
        "colab": {
          "base_uri": "https://localhost:8080/"
        },
        "id": "PXjjAYZ39_If",
        "outputId": "0d31defd-bd0b-49bb-db7d-08d6590ed7ce"
      },
      "execution_count": 23,
      "outputs": [
        {
          "output_type": "stream",
          "name": "stdout",
          "text": [
            "Regressão Logísitca e TF-IDF\n",
            "Acurácia: 0.7187723054960742\n",
            "Precisão: 0.7029862792574657\n",
            "Recall: 0.9710144927536232\n",
            "F1 Score: 0.8155430711610487\n",
            "\n"
          ]
        }
      ]
    },
    {
      "cell_type": "code",
      "source": [
        "cl = LogisticRegression().fit(count_X_train.toarray(), count_y_train)\n",
        "count_y_pred = cl.predict(count_X_test.toarray())"
      ],
      "metadata": {
        "id": "9uN9HocF-CRv"
      },
      "execution_count": 24,
      "outputs": []
    },
    {
      "cell_type": "code",
      "source": [
        "plot_confusion_matrix(cl, count_X_test.toarray(), count_y_test)\n",
        "plt.show()"
      ],
      "metadata": {
        "colab": {
          "base_uri": "https://localhost:8080/",
          "height": 282
        },
        "id": "5UREllag-QUg",
        "outputId": "16d73ed7-2859-4e17-b087-cb13b1315950"
      },
      "execution_count": 25,
      "outputs": [
        {
          "output_type": "display_data",
          "data": {
            "text/plain": [
              "<Figure size 432x288 with 2 Axes>"
            ],
            "image/png": "[encoded data removed]"
          },
          "metadata": {
            "needs_background": "light"
          }
        }
      ]
    },
    {
      "cell_type": "code",
      "source": [
        "accuracy_lr_count = accuracy_score(count_y_test, count_y_pred)\n",
        "precision_lr_count = precision_score(count_y_test, count_y_pred)\n",
        "recall_lr_count = recall_score(count_y_test, count_y_pred)\n",
        "f1_lr_count = f1_score(count_y_test, count_y_pred)\n",
        "\n",
        "print(\"Regressão Logísitca e CountVectorizer\\nAcurácia: {}\\nPrecisão: {}\\nRecall: {}\\nF1 Score: {}\\n\".format(accuracy_lr_count, precision_lr_count, recall_lr_count, f1_lr_count))"
      ],
      "metadata": {
        "colab": {
          "base_uri": "https://localhost:8080/"
        },
        "id": "Y0ziLgkF-UED",
        "outputId": "14178b2e-c40f-4ca4-a337-87214d6e3d0f"
      },
      "execution_count": 26,
      "outputs": [
        {
          "output_type": "stream",
          "name": "stdout",
          "text": [
            "Regressão Logísitca e CountVectorizer\n",
            "Acurácia: 0.7773019271948608\n",
            "Precisão: 0.7976190476190477\n",
            "Recall: 0.881578947368421\n",
            "F1 Score: 0.8375\n",
            "\n"
          ]
        }
      ]
    },
    {
      "cell_type": "markdown",
      "source": [
        "### 2.d) Faça o mesmo para o classificador Naive-Bayes.\n",
        "\n",
        "\n"
      ],
      "metadata": {
        "id": "OHV8fBkH-YP3"
      }
    },
    {
      "cell_type": "code",
      "source": [
        "cl_nb = MultinomialNB().fit(tfidf_X_train.toarray(), tfidf_y_train)\n",
        "tfidf_y_pred_nb = cl_nb.predict(tfidf_X_test.toarray())"
      ],
      "metadata": {
        "id": "hp6mblvW-ZHh"
      },
      "execution_count": 27,
      "outputs": []
    },
    {
      "cell_type": "code",
      "source": [
        "plot_confusion_matrix(cl_nb, tfidf_X_test.toarray(), tfidf_y_test)\n",
        "plt.show()"
      ],
      "metadata": {
        "colab": {
          "base_uri": "https://localhost:8080/",
          "height": 279
        },
        "id": "bBDbCDwt-c8r",
        "outputId": "2169767c-cbe0-49f7-bd8d-ae6bfd9f1ac6"
      },
      "execution_count": 28,
      "outputs": [
        {
          "output_type": "display_data",
          "data": {
            "text/plain": [
              "<Figure size 432x288 with 2 Axes>"
            ],
            "image/png": "[encoded data removed]"
          },
          "metadata": {
            "needs_background": "light"
          }
        }
      ]
    },
    {
      "cell_type": "code",
      "source": [
        "accuracy_nb_tfidf = accuracy_score(tfidf_y_test, tfidf_y_pred_nb)\n",
        "precision_nb_tfidf = precision_score(tfidf_y_test, tfidf_y_pred_nb)\n",
        "recall_nb_tfidf = recall_score(tfidf_y_test, tfidf_y_pred_nb)\n",
        "f1_nb_tfidf = f1_score(tfidf_y_test, tfidf_y_pred_nb)\n",
        "\n",
        "print(\"Naive Bayes e TF-IDF\\nAcurácia: {}\\nPrecisão: {}\\nRecall: {}\\nF1 Score: {}\\n\".format(accuracy_nb_tfidf, precision_nb_tfidf, recall_nb_tfidf, f1_nb_tfidf))"
      ],
      "metadata": {
        "colab": {
          "base_uri": "https://localhost:8080/"
        },
        "id": "Apfxglx9-fq4",
        "outputId": "7bfb84e2-f8f1-4958-f0a5-7e20b51cdd1b"
      },
      "execution_count": 29,
      "outputs": [
        {
          "output_type": "stream",
          "name": "stdout",
          "text": [
            "Naive Bayes e TF-IDF\n",
            "Acurácia: 0.648108493932905\n",
            "Precisão: 0.6468023255813954\n",
            "Recall: 0.992196209587514\n",
            "F1 Score: 0.7831060272767268\n",
            "\n"
          ]
        }
      ]
    },
    {
      "cell_type": "code",
      "source": [
        "cl_nb = MultinomialNB().fit(count_X_train.toarray(), count_y_train)\n",
        "count_y_pred_nb = cl_nb.predict(count_X_test.toarray())"
      ],
      "metadata": {
        "id": "05anHEW4-ikn"
      },
      "execution_count": 30,
      "outputs": []
    },
    {
      "cell_type": "code",
      "source": [
        "plot_confusion_matrix(cl_nb, count_X_test.toarray(), count_y_test)\n",
        "plt.show()"
      ],
      "metadata": {
        "colab": {
          "base_uri": "https://localhost:8080/",
          "height": 279
        },
        "id": "iT6YUnJJ-kpd",
        "outputId": "b347bf88-bb16-46a0-88ad-e3a460ada3d1"
      },
      "execution_count": 31,
      "outputs": [
        {
          "output_type": "display_data",
          "data": {
            "text/plain": [
              "<Figure size 432x288 with 2 Axes>"
            ],
            "image/png": "[encoded data removed]"
          },
          "metadata": {
            "needs_background": "light"
          }
        }
      ]
    },
    {
      "cell_type": "code",
      "source": [
        "accuracy_nb_count = accuracy_score(count_y_test, count_y_pred_nb)\n",
        "precision_nb_count = precision_score(count_y_test, count_y_pred_nb)\n",
        "recall_nb_count = recall_score(count_y_test, count_y_pred_nb)\n",
        "f1_nb_count = f1_score(count_y_test, count_y_pred_nb)\n",
        "\n",
        "print(\"Naive Bayes e CountVectorizer\\nAcurácia: {}\\nPrecisão: {}\\nRecall: {}\\nF1 Score: {}\\n\".format(accuracy_nb_count, precision_nb_count, recall_nb_count, f1_nb_count))"
      ],
      "metadata": {
        "colab": {
          "base_uri": "https://localhost:8080/"
        },
        "id": "v97Ak4Q7-oEa",
        "outputId": "7431f5fd-2def-46a8-f211-01f905c5228b"
      },
      "execution_count": 32,
      "outputs": [
        {
          "output_type": "stream",
          "name": "stdout",
          "text": [
            "Naive Bayes e CountVectorizer\n",
            "Acurácia: 0.7651677373304783\n",
            "Precisão: 0.7742238946378175\n",
            "Recall: 0.9024122807017544\n",
            "F1 Score: 0.8334177215189873\n",
            "\n"
          ]
        }
      ]
    },
    {
      "cell_type": "markdown",
      "source": [
        "### 2.e) Faça o mesmo para um outro classificador de sua preferência (pesquise na biblioteca Scikit-learn)."
      ],
      "metadata": {
        "id": "K7O3lya3-ufo"
      }
    },
    {
      "cell_type": "code",
      "source": [
        "cl_svm = LinearSVC().fit(tfidf_X_train.toarray(), tfidf_y_train)\n",
        "tfidf_y_pred_svm = cl_svm.predict(tfidf_X_test.toarray())"
      ],
      "metadata": {
        "id": "aNihR84h-vjQ"
      },
      "execution_count": 33,
      "outputs": []
    },
    {
      "cell_type": "code",
      "source": [
        "plot_confusion_matrix(cl_svm, tfidf_X_test.toarray(), tfidf_y_test)\n",
        "plt.show()"
      ],
      "metadata": {
        "colab": {
          "base_uri": "https://localhost:8080/",
          "height": 279
        },
        "id": "v853yPvW-zBH",
        "outputId": "45a1db7d-ffb3-4f4c-9e80-8829699f4993"
      },
      "execution_count": 34,
      "outputs": [
        {
          "output_type": "display_data",
          "data": {
            "text/plain": [
              "<Figure size 432x288 with 2 Axes>"
            ],
            "image/png": "[encoded data removed]"
          },
          "metadata": {
            "needs_background": "light"
          }
        }
      ]
    },
    {
      "cell_type": "code",
      "source": [
        "accuracy_svm_tfidf = accuracy_score(tfidf_y_test, tfidf_y_pred_svm)\n",
        "precision_svm_tfidf = precision_score(tfidf_y_test, tfidf_y_pred_svm)\n",
        "recall_svm_tfidf = recall_score(tfidf_y_test, tfidf_y_pred_svm)\n",
        "f1_svm_tfidf = f1_score(tfidf_y_test, tfidf_y_pred_svm)\n",
        "\n",
        "print(\"SVM e TF-IDF\\nAcurácia: {}\\nPrecisão: {}\\nRecall: {}\\nF1 Score: {}\\n\".format(accuracy_svm_tfidf, precision_svm_tfidf, recall_svm_tfidf, f1_svm_tfidf))"
      ],
      "metadata": {
        "colab": {
          "base_uri": "https://localhost:8080/"
        },
        "id": "li8oxnQC-2jN",
        "outputId": "663ffb3e-8ea7-47b0-c664-d546b5249514"
      },
      "execution_count": 35,
      "outputs": [
        {
          "output_type": "stream",
          "name": "stdout",
          "text": [
            "SVM e TF-IDF\n",
            "Acurácia: 0.7744468236973591\n",
            "Precisão: 0.7758784425451092\n",
            "Recall: 0.9108138238573021\n",
            "F1 Score: 0.837948717948718\n",
            "\n"
          ]
        }
      ]
    },
    {
      "cell_type": "code",
      "source": [
        "cl_svm = LinearSVC().fit(count_X_train.toarray(), count_y_train)\n",
        "count_y_pred_svm = cl_svm.predict(count_X_test.toarray())"
      ],
      "metadata": {
        "id": "zQgXVm_s-5JR"
      },
      "execution_count": 36,
      "outputs": []
    },
    {
      "cell_type": "code",
      "source": [
        "plot_confusion_matrix(cl_svm, count_X_test.toarray(), count_y_test)\n",
        "plt.show()"
      ],
      "metadata": {
        "colab": {
          "base_uri": "https://localhost:8080/",
          "height": 279
        },
        "id": "_ErHm9HE-7OW",
        "outputId": "50739f5d-7721-402b-9c5c-8fb7fa381458"
      },
      "execution_count": 37,
      "outputs": [
        {
          "output_type": "display_data",
          "data": {
            "text/plain": [
              "<Figure size 432x288 with 2 Axes>"
            ],
            "image/png": "[encoded data removed]"
          },
          "metadata": {
            "needs_background": "light"
          }
        }
      ]
    },
    {
      "cell_type": "code",
      "source": [
        "accuracy_svm_count = accuracy_score(count_y_test, count_y_pred_svm)\n",
        "precision_svm_count = precision_score(count_y_test, count_y_pred_svm)\n",
        "recall_svm_count = recall_score(count_y_test, count_y_pred_svm)\n",
        "f1_svm_count = f1_score(count_y_test, count_y_pred_svm)\n",
        "\n",
        "print(\"SVM e CountVectorizer\\nAcurácia: {}\\nPrecisão: {}\\nRecall: {}\\nF1 Score: {}\\n\".format(accuracy_svm_count, precision_svm_count, recall_svm_count, f1_svm_count))"
      ],
      "metadata": {
        "colab": {
          "base_uri": "https://localhost:8080/"
        },
        "id": "aPSQO4UO-9mL",
        "outputId": "aeea532c-3e70-422b-b09f-797866b1510d"
      },
      "execution_count": 38,
      "outputs": [
        {
          "output_type": "stream",
          "name": "stdout",
          "text": [
            "SVM e CountVectorizer\n",
            "Acurácia: 0.76802284082798\n",
            "Precisão: 0.8035160289555325\n",
            "Recall: 0.8519736842105263\n",
            "F1 Score: 0.8270356572645023\n",
            "\n"
          ]
        }
      ]
    },
    {
      "cell_type": "markdown",
      "source": [
        "### 2.f) Compare os 6 resultados"
      ],
      "metadata": {
        "id": "9J6cXp6C_Aem"
      }
    },
    {
      "cell_type": "code",
      "source": [
        "lr_count_results = [accuracy_lr_count, precision_lr_count, recall_lr_count, f1_lr_count]\n",
        "lr_tfidf_results = [accuracy_lr_tfidf, precision_lr_tfidf, recall_lr_tfidf, f1_lr_tfidf]\n",
        "nb_count_results = [accuracy_nb_count,precision_nb_count, recall_nb_count,f1_nb_count]\n",
        "nb_tfidf_results = [accuracy_nb_tfidf, precision_nb_tfidf,recall_nb_tfidf, f1_nb_tfidf]\n",
        "svm_count_results = [accuracy_svm_count,precision_svm_count, recall_svm_count,f1_svm_count]\n",
        "svm_tfidf_results = [accuracy_svm_tfidf,precision_svm_tfidf, recall_svm_tfidf,f1_svm_tfidf]\n",
        "\n",
        "data_results2 = {\n",
        "    'Regression with Count': lr_count_results,\n",
        "    'Regression with TF-IDF': lr_tfidf_results,\n",
        "    'Naive Bayes with Count': nb_count_results,\n",
        "    'Naive Bayes with TF-IDF': nb_tfidf_results,\n",
        "    'SVM with Count': svm_count_results,\n",
        "    'SVM with TF-IDF': svm_tfidf_results,\n",
        "}\n",
        "\n",
        "index_values2 = ['accuracy', 'precision', 'recall', 'f1']\n",
        "pd.set_option('display.max_columns', None)\n",
        "\n",
        "df_results2 = pd.DataFrame(data_results2, index=index_values2)\n",
        "\n",
        "df_results2"
      ],
      "metadata": {
        "colab": {
          "base_uri": "https://localhost:8080/",
          "height": 175
        },
        "id": "EVxysSWA_DIE",
        "outputId": "83089806-19c7-4203-d1d0-fc52bec6438e"
      },
      "execution_count": 39,
      "outputs": [
        {
          "output_type": "execute_result",
          "data": {
            "text/plain": [
              "           Regression with Count  Regression with TF-IDF  \\\n",
              "accuracy                0.777302                0.718772   \n",
              "precision               0.797619                0.702986   \n",
              "recall                  0.881579                0.971014   \n",
              "f1                      0.837500                0.815543   \n",
              "\n",
              "           Naive Bayes with Count  Naive Bayes with TF-IDF  SVM with Count  \\\n",
              "accuracy                 0.765168                 0.648108        0.768023   \n",
              "precision                0.774224                 0.646802        0.803516   \n",
              "recall                   0.902412                 0.992196        0.851974   \n",
              "f1                       0.833418                 0.783106        0.827036   \n",
              "\n",
              "           SVM with TF-IDF  \n",
              "accuracy          0.774447  \n",
              "precision         0.775878  \n",
              "recall            0.910814  \n",
              "f1                0.837949  "
            ],
            "text/html": [
              "\n",
              "  <div id=\"df-4f47e4c2-cb6f-48eb-b526-6e5bea70b723\">\n",
              "    <div class=\"colab-df-container\">\n",
              "      <div>\n",
              "<style scoped>\n",
              "    .dataframe tbody tr th:only-of-type {\n",
              "        vertical-align: middle;\n",
              "    }\n",
              "\n",
              "    .dataframe tbody tr th {\n",
              "        vertical-align: top;\n",
              "    }\n",
              "\n",
              "    .dataframe thead th {\n",
              "        text-align: right;\n",
              "    }\n",
              "</style>\n",
              "<table border=\"1\" class=\"dataframe\">\n",
              "  <thead>\n",
              "    <tr style=\"text-align: right;\">\n",
              "      <th></th>\n",
              "      <th>Regression with Count</th>\n",
              "      <th>Regression with TF-IDF</th>\n",
              "      <th>Naive Bayes with Count</th>\n",
              "      <th>Naive Bayes with TF-IDF</th>\n",
              "      <th>SVM with Count</th>\n",
              "      <th>SVM with TF-IDF</th>\n",
              "    </tr>\n",
              "  </thead>\n",
              "  <tbody>\n",
              "    <tr>\n",
              "      <th>accuracy</th>\n",
              "      <td>0.777302</td>\n",
              "      <td>0.718772</td>\n",
              "      <td>0.765168</td>\n",
              "      <td>0.648108</td>\n",
              "      <td>0.768023</td>\n",
              "      <td>0.774447</td>\n",
              "    </tr>\n",
              "    <tr>\n",
              "      <th>precision</th>\n",
              "      <td>0.797619</td>\n",
              "      <td>0.702986</td>\n",
              "      <td>0.774224</td>\n",
              "      <td>0.646802</td>\n",
              "      <td>0.803516</td>\n",
              "      <td>0.775878</td>\n",
              "    </tr>\n",
              "    <tr>\n",
              "      <th>recall</th>\n",
              "      <td>0.881579</td>\n",
              "      <td>0.971014</td>\n",
              "      <td>0.902412</td>\n",
              "      <td>0.992196</td>\n",
              "      <td>0.851974</td>\n",
              "      <td>0.910814</td>\n",
              "    </tr>\n",
              "    <tr>\n",
              "      <th>f1</th>\n",
              "      <td>0.837500</td>\n",
              "      <td>0.815543</td>\n",
              "      <td>0.833418</td>\n",
              "      <td>0.783106</td>\n",
              "      <td>0.827036</td>\n",
              "      <td>0.837949</td>\n",
              "    </tr>\n",
              "  </tbody>\n",
              "</table>\n",
              "</div>\n",
              "      <button class=\"colab-df-convert\" onclick=\"convertToInteractive('df-4f47e4c2-cb6f-48eb-b526-6e5bea70b723')\"\n",
              "              title=\"Convert this dataframe to an interactive table.\"\n",
              "              style=\"display:none;\">\n",
              "        \n",
              "  <svg xmlns=\"http://www.w3.org/2000/svg\" height=\"24px\"viewBox=\"0 0 24 24\"\n",
              "       width=\"24px\">\n",
              "    <path d=\"M0 0h24v24H0V0z\" fill=\"none\"/>\n",
              "    <path d=\"M18.56 5.44l.94 2.06.94-2.06 2.06-.94-2.06-.94-.94-2.06-.94 2.06-2.06.94zm-11 1L8.5 8.5l.94-2.06 2.06-.94-2.06-.94L8.5 2.5l-.94 2.06-2.06.94zm10 10l.94 2.06.94-2.06 2.06-.94-2.06-.94-.94-2.06-.94 2.06-2.06.94z\"/><path d=\"M17.41 7.96l-1.37-1.37c-.4-.4-.92-.59-1.43-.59-.52 0-1.04.2-1.43.59L10.3 9.45l-7.72 7.72c-.78.78-.78 2.05 0 2.83L4 21.41c.39.39.9.59 1.41.59.51 0 1.02-.2 1.41-.59l7.78-7.78 2.81-2.81c.8-.78.8-2.07 0-2.86zM5.41 20L4 18.59l7.72-7.72 1.47 1.35L5.41 20z\"/>\n",
              "  </svg>\n",
              "      </button>\n",
              "      \n",
              "  <style>\n",
              "    .colab-df-container {\n",
              "      display:flex;\n",
              "      flex-wrap:wrap;\n",
              "      gap: 12px;\n",
              "    }\n",
              "\n",
              "    .colab-df-convert {\n",
              "      background-color: #E8F0FE;\n",
              "      border: none;\n",
              "      border-radius: 50%;\n",
              "      cursor: pointer;\n",
              "      display: none;\n",
              "      fill: #1967D2;\n",
              "      height: 32px;\n",
              "      padding: 0 0 0 0;\n",
              "      width: 32px;\n",
              "    }\n",
              "\n",
              "    .colab-df-convert:hover {\n",
              "      background-color: #E2EBFA;\n",
              "      box-shadow: 0px 1px 2px rgba(60, 64, 67, 0.3), 0px 1px 3px 1px rgba(60, 64, 67, 0.15);\n",
              "      fill: #174EA6;\n",
              "    }\n",
              "\n",
              "    [theme=dark] .colab-df-convert {\n",
              "      background-color: #3B4455;\n",
              "      fill: #D2E3FC;\n",
              "    }\n",
              "\n",
              "    [theme=dark] .colab-df-convert:hover {\n",
              "      background-color: #434B5C;\n",
              "      box-shadow: 0px 1px 3px 1px rgba(0, 0, 0, 0.15);\n",
              "      filter: drop-shadow(0px 1px 2px rgba(0, 0, 0, 0.3));\n",
              "      fill: #FFFFFF;\n",
              "    }\n",
              "  </style>\n",
              "\n",
              "      <script>\n",
              "        const buttonEl =\n",
              "          document.querySelector('#df-4f47e4c2-cb6f-48eb-b526-6e5bea70b723 button.colab-df-convert');\n",
              "        buttonEl.style.display =\n",
              "          google.colab.kernel.accessAllowed ? 'block' : 'none';\n",
              "\n",
              "        async function convertToInteractive(key) {\n",
              "          const element = document.querySelector('#df-4f47e4c2-cb6f-48eb-b526-6e5bea70b723');\n",
              "          const dataTable =\n",
              "            await google.colab.kernel.invokeFunction('convertToInteractive',\n",
              "                                                     [key], {});\n",
              "          if (!dataTable) return;\n",
              "\n",
              "          const docLinkHtml = 'Like what you see? Visit the ' +\n",
              "            '<a target=\"_blank\" href=https://colab.research.google.com/notebooks/data_table.ipynb>data table notebook</a>'\n",
              "            + ' to learn more about interactive tables.';\n",
              "          element.innerHTML = '';\n",
              "          dataTable['output_type'] = 'display_data';\n",
              "          await google.colab.output.renderOutput(dataTable, element);\n",
              "          const docLink = document.createElement('div');\n",
              "          docLink.innerHTML = docLinkHtml;\n",
              "          element.appendChild(docLink);\n",
              "        }\n",
              "      </script>\n",
              "    </div>\n",
              "  </div>\n",
              "  "
            ]
          },
          "metadata": {},
          "execution_count": 39
        }
      ]
    },
    {
      "cell_type": "code",
      "source": [
        "df_results2.plot()\n",
        "plt.show()"
      ],
      "metadata": {
        "colab": {
          "base_uri": "https://localhost:8080/",
          "height": 265
        },
        "id": "6xRAE_SB_HHH",
        "outputId": "da114fc4-972c-48b8-a5c8-0909b229fa65"
      },
      "execution_count": 40,
      "outputs": [
        {
          "output_type": "display_data",
          "data": {
            "text/plain": [
              "<Figure size 432x288 with 1 Axes>"
            ],
            "image/png": "[encoded data removed]"
          },
          "metadata": {
            "needs_background": "light"
          }
        }
      ]
    },
    {
      "cell_type": "markdown",
      "source": [
        "Podemos analisar que obtivemos a maior acurácia quando utilizamos o Naive Bayes com CountVectorizer, precisão mais alta utilizando Regressão Logística com CountVectorizer, maior recall utilizando Naive Bayes com TF-IDF e maior F1 utilizando Naive Bayes com CountVectorizer."
      ],
      "metadata": {
        "id": "Vv_w-vdy_Lzp"
      }
    },
    {
      "cell_type": "markdown",
      "source": [
        "## Questão 3\n",
        "\n",
        "Realize um comparativo entre os métodos LDA, SVD e NMF para realizar\n",
        "modelagem de tópicos. Para cada método:\n",
        "\n",
        "a) empiricamente, tente identificar uma quantidade de tópicos adequada para\n",
        "seu problema. Exiba resultados que justifiquem a quantidade de tópicos\n",
        "escolhida;\n",
        "\n",
        "b) identifique as 5 palavras mais relevantes de cada tópico;\n",
        "\n",
        "c) identifique os 3 tópicos mais relevantes de 5 documentos quaisquer (você\n",
        "pode representar os tópicos por suas 5 palavras mais relevantes).\n",
        "\n",
        "d) qual método apresentou melhores resultados, na sua opinião? Justifique com resultados/dados."
      ],
      "metadata": {
        "id": "kw-o8RjUBZPG"
      }
    },
    {
      "cell_type": "code",
      "source": [
        "n_topics = 5\n",
        "samples = dataset.sample(n=5)\n",
        "samples.reset_index(inplace=True)\n",
        "samples"
      ],
      "metadata": {
        "colab": {
          "base_uri": "https://localhost:8080/",
          "height": 206
        },
        "id": "L9eWOe1FBcBd",
        "outputId": "88e7861c-0ccf-438e-d8b3-34f28ae21fbe"
      },
      "execution_count": 41,
      "outputs": [
        {
          "output_type": "execute_result",
          "data": {
            "text/plain": [
              "   index                         title     genre  \\\n",
              "0   4243           \"Storyland\" (2009)     drama    \n",
              "1   3161   Taming Jessica Lang (2007)     drama    \n",
              "2   1390           America 101 (2005)    comedy    \n",
              "3   3479       A Soul Enslaved (1916)     drama    \n",
              "4    665      Straight Wedding (????)    comedy    \n",
              "\n",
              "                                         description  \n",
              "0  comedy drama set present day kilkenny fragment...  \n",
              "1  world crazy place jessica life normal life mot...  \n",
              "2  two brothers leave home mexico search american...  \n",
              "3  tired poverty jane finally accepts advances am...  \n",
              "4  unique wedding comprised couple assume opposit...  "
            ],
            "text/html": [
              "\n",
              "  <div id=\"df-9e088100-a01b-4647-ac62-3fc4fd336995\">\n",
              "    <div class=\"colab-df-container\">\n",
              "      <div>\n",
              "<style scoped>\n",
              "    .dataframe tbody tr th:only-of-type {\n",
              "        vertical-align: middle;\n",
              "    }\n",
              "\n",
              "    .dataframe tbody tr th {\n",
              "        vertical-align: top;\n",
              "    }\n",
              "\n",
              "    .dataframe thead th {\n",
              "        text-align: right;\n",
              "    }\n",
              "</style>\n",
              "<table border=\"1\" class=\"dataframe\">\n",
              "  <thead>\n",
              "    <tr style=\"text-align: right;\">\n",
              "      <th></th>\n",
              "      <th>index</th>\n",
              "      <th>title</th>\n",
              "      <th>genre</th>\n",
              "      <th>description</th>\n",
              "    </tr>\n",
              "  </thead>\n",
              "  <tbody>\n",
              "    <tr>\n",
              "      <th>0</th>\n",
              "      <td>4243</td>\n",
              "      <td>\"Storyland\" (2009)</td>\n",
              "      <td>drama</td>\n",
              "      <td>comedy drama set present day kilkenny fragment...</td>\n",
              "    </tr>\n",
              "    <tr>\n",
              "      <th>1</th>\n",
              "      <td>3161</td>\n",
              "      <td>Taming Jessica Lang (2007)</td>\n",
              "      <td>drama</td>\n",
              "      <td>world crazy place jessica life normal life mot...</td>\n",
              "    </tr>\n",
              "    <tr>\n",
              "      <th>2</th>\n",
              "      <td>1390</td>\n",
              "      <td>America 101 (2005)</td>\n",
              "      <td>comedy</td>\n",
              "      <td>two brothers leave home mexico search american...</td>\n",
              "    </tr>\n",
              "    <tr>\n",
              "      <th>3</th>\n",
              "      <td>3479</td>\n",
              "      <td>A Soul Enslaved (1916)</td>\n",
              "      <td>drama</td>\n",
              "      <td>tired poverty jane finally accepts advances am...</td>\n",
              "    </tr>\n",
              "    <tr>\n",
              "      <th>4</th>\n",
              "      <td>665</td>\n",
              "      <td>Straight Wedding (????)</td>\n",
              "      <td>comedy</td>\n",
              "      <td>unique wedding comprised couple assume opposit...</td>\n",
              "    </tr>\n",
              "  </tbody>\n",
              "</table>\n",
              "</div>\n",
              "      <button class=\"colab-df-convert\" onclick=\"convertToInteractive('df-9e088100-a01b-4647-ac62-3fc4fd336995')\"\n",
              "              title=\"Convert this dataframe to an interactive table.\"\n",
              "              style=\"display:none;\">\n",
              "        \n",
              "  <svg xmlns=\"http://www.w3.org/2000/svg\" height=\"24px\"viewBox=\"0 0 24 24\"\n",
              "       width=\"24px\">\n",
              "    <path d=\"M0 0h24v24H0V0z\" fill=\"none\"/>\n",
              "    <path d=\"M18.56 5.44l.94 2.06.94-2.06 2.06-.94-2.06-.94-.94-2.06-.94 2.06-2.06.94zm-11 1L8.5 8.5l.94-2.06 2.06-.94-2.06-.94L8.5 2.5l-.94 2.06-2.06.94zm10 10l.94 2.06.94-2.06 2.06-.94-2.06-.94-.94-2.06-.94 2.06-2.06.94z\"/><path d=\"M17.41 7.96l-1.37-1.37c-.4-.4-.92-.59-1.43-.59-.52 0-1.04.2-1.43.59L10.3 9.45l-7.72 7.72c-.78.78-.78 2.05 0 2.83L4 21.41c.39.39.9.59 1.41.59.51 0 1.02-.2 1.41-.59l7.78-7.78 2.81-2.81c.8-.78.8-2.07 0-2.86zM5.41 20L4 18.59l7.72-7.72 1.47 1.35L5.41 20z\"/>\n",
              "  </svg>\n",
              "      </button>\n",
              "      \n",
              "  <style>\n",
              "    .colab-df-container {\n",
              "      display:flex;\n",
              "      flex-wrap:wrap;\n",
              "      gap: 12px;\n",
              "    }\n",
              "\n",
              "    .colab-df-convert {\n",
              "      background-color: #E8F0FE;\n",
              "      border: none;\n",
              "      border-radius: 50%;\n",
              "      cursor: pointer;\n",
              "      display: none;\n",
              "      fill: #1967D2;\n",
              "      height: 32px;\n",
              "      padding: 0 0 0 0;\n",
              "      width: 32px;\n",
              "    }\n",
              "\n",
              "    .colab-df-convert:hover {\n",
              "      background-color: #E2EBFA;\n",
              "      box-shadow: 0px 1px 2px rgba(60, 64, 67, 0.3), 0px 1px 3px 1px rgba(60, 64, 67, 0.15);\n",
              "      fill: #174EA6;\n",
              "    }\n",
              "\n",
              "    [theme=dark] .colab-df-convert {\n",
              "      background-color: #3B4455;\n",
              "      fill: #D2E3FC;\n",
              "    }\n",
              "\n",
              "    [theme=dark] .colab-df-convert:hover {\n",
              "      background-color: #434B5C;\n",
              "      box-shadow: 0px 1px 3px 1px rgba(0, 0, 0, 0.15);\n",
              "      filter: drop-shadow(0px 1px 2px rgba(0, 0, 0, 0.3));\n",
              "      fill: #FFFFFF;\n",
              "    }\n",
              "  </style>\n",
              "\n",
              "      <script>\n",
              "        const buttonEl =\n",
              "          document.querySelector('#df-9e088100-a01b-4647-ac62-3fc4fd336995 button.colab-df-convert');\n",
              "        buttonEl.style.display =\n",
              "          google.colab.kernel.accessAllowed ? 'block' : 'none';\n",
              "\n",
              "        async function convertToInteractive(key) {\n",
              "          const element = document.querySelector('#df-9e088100-a01b-4647-ac62-3fc4fd336995');\n",
              "          const dataTable =\n",
              "            await google.colab.kernel.invokeFunction('convertToInteractive',\n",
              "                                                     [key], {});\n",
              "          if (!dataTable) return;\n",
              "\n",
              "          const docLinkHtml = 'Like what you see? Visit the ' +\n",
              "            '<a target=\"_blank\" href=https://colab.research.google.com/notebooks/data_table.ipynb>data table notebook</a>'\n",
              "            + ' to learn more about interactive tables.';\n",
              "          element.innerHTML = '';\n",
              "          dataTable['output_type'] = 'display_data';\n",
              "          await google.colab.output.renderOutput(dataTable, element);\n",
              "          const docLink = document.createElement('div');\n",
              "          docLink.innerHTML = docLinkHtml;\n",
              "          element.appendChild(docLink);\n",
              "        }\n",
              "      </script>\n",
              "    </div>\n",
              "  </div>\n",
              "  "
            ]
          },
          "metadata": {},
          "execution_count": 41
        }
      ]
    },
    {
      "cell_type": "markdown",
      "source": [
        "Utilizando TF-IDF como embbeding dos textos"
      ],
      "metadata": {
        "id": "dNe8-yw5Bf9I"
      }
    },
    {
      "cell_type": "code",
      "source": [
        "tfidf = TfidfVectorizer()\n",
        "X = tfidf.fit_transform(dataset.description)"
      ],
      "metadata": {
        "id": "ubEah-NpBg_a"
      },
      "execution_count": 47,
      "outputs": []
    },
    {
      "cell_type": "code",
      "source": [
        "for decomposition_algorithm in (LatentDirichletAllocation, TruncatedSVD, NMF):\n",
        "    algorithm = decomposition_algorithm(n_components=n_topics)\n",
        "    X_topics = algorithm.fit_transform(X)\n",
        "\n",
        "    def get_top_words(topic, n, words, algorithm):\n",
        "      sorted_idxs = np.argsort(algorithm.components_[topic])\n",
        "      top_words = [words[i] for i in sorted_idxs]\n",
        "      return [w for w in reversed(top_words[-n:])]\n",
        "\n",
        "    print(f'Algoritmo: {decomposition_algorithm.__name__}')\n",
        "    for i in range(n_topics):\n",
        "        print(f'Tópico {i + i} -> {get_top_words(i, 5, tfidf.get_feature_names(), algorithm)}')\n",
        "    print('\\n')\n",
        "\n",
        "    sample_topics = algorithm.transform(tfidf.transform(samples.description))\n",
        "\n",
        "    for i, sample in samples.iterrows():\n",
        "        print(f'{sample.title}')\n",
        "        print(sample.description[:70] + '...')\n",
        "        print(sample_topics[i])\n",
        "        print('\\n')"
      ],
      "metadata": {
        "colab": {
          "base_uri": "https://localhost:8080/"
        },
        "id": "e1u438ScCRXH",
        "outputId": "27fc3951-fe8b-4ca2-c1f9-8cdf2d7c7883"
      },
      "execution_count": 51,
      "outputs": [
        {
          "output_type": "stream",
          "name": "stdout",
          "text": [
            "Algoritmo: LatentDirichletAllocation\n",
            "Tópico 0 -> ['life', 'one', 'young', 'love', 'man']\n",
            "Tópico 2 -> ['life', 'love', 'young', 'family', 'mother']\n",
            "Tópico 4 -> ['life', 'one', 'family', 'man', 'two']\n",
            "Tópico 6 -> ['life', 'one', 'family', 'young', 'love']\n",
            "Tópico 8 -> ['life', 'young', 'one', 'two', 'love']\n",
            "\n",
            "\n",
            " \"Storyland\" (2009) \n",
            "comedy drama set present day kilkenny fragmented group old school frie...\n",
            "[0.03083705 0.03067279 0.03100208 0.03084844 0.87663964]\n",
            "\n",
            "\n",
            " Taming Jessica Lang (2007) \n",
            "world crazy place jessica life normal life mother father best give eve...\n",
            "[0.03194358 0.03187942 0.03213984 0.03208448 0.87195268]\n",
            "\n",
            "\n",
            " America 101 (2005) \n",
            "two brothers leave home mexico search american dream realize front tim...\n",
            "[0.02265112 0.02262731 0.76935505 0.02278856 0.16257797]\n",
            "\n",
            "\n",
            " A Soul Enslaved (1916) \n",
            "tired poverty jane finally accepts advances ambrose wealthy owner fact...\n",
            "[0.88559219 0.02843098 0.02893264 0.02846815 0.02857604]\n",
            "\n",
            "\n",
            " Straight Wedding (????) \n",
            "unique wedding comprised couple assume opposite gender roles takes dar...\n",
            "[0.87254571 0.03179458 0.03207584 0.03188125 0.03170262]\n",
            "\n",
            "\n",
            "Algoritmo: TruncatedSVD\n",
            "Tópico 0 -> ['life', 'one', 'love', 'young', 'family']\n",
            "Tópico 2 -> ['father', 'son', 'mother', 'family', 'daughter']\n",
            "Tópico 4 -> ['love', 'life', 'young', 'story', 'woman']\n",
            "Tópico 6 -> ['life', 'family', 'father', 'mother', 'story']\n",
            "Tópico 8 -> ['life', 'new', 'friend', 'job', 'money']\n",
            "\n",
            "\n",
            " \"Storyland\" (2009) \n",
            "comedy drama set present day kilkenny fragmented group old school frie...\n",
            "[ 0.16230187 -0.08784095 -0.0295189   0.03630611  0.04702639]\n",
            "\n",
            "\n",
            " Taming Jessica Lang (2007) \n",
            "world crazy place jessica life normal life mother father best give eve...\n",
            "[0.15846016 0.05216288 0.00683053 0.15074648 0.08263742]\n",
            "\n",
            "\n",
            " America 101 (2005) \n",
            "two brothers leave home mexico search american dream realize front tim...\n",
            "[ 0.17840121  0.01236382 -0.07937063 -0.00876972  0.01438848]\n",
            "\n",
            "\n",
            " A Soul Enslaved (1916) \n",
            "tired poverty jane finally accepts advances ambrose wealthy owner fact...\n",
            "[ 0.13413205  0.06633637  0.0240079  -0.07359718  0.02035456]\n",
            "\n",
            "\n",
            " Straight Wedding (????) \n",
            "unique wedding comprised couple assume opposite gender roles takes dar...\n",
            "[ 0.09435167 -0.02040127 -0.04287041  0.02468546 -0.01612109]\n",
            "\n",
            "\n",
            "Algoritmo: NMF\n",
            "Tópico 0 -> ['one', 'two', 'friends', 'get', 'school']\n",
            "Tópico 2 -> ['father', 'family', 'mother', 'son', 'daughter']\n",
            "Tópico 4 -> ['love', 'young', 'man', 'woman', 'girl']\n",
            "Tópico 6 -> ['life', 'world', 'new', 'change', 'journey']\n",
            "Tópico 8 -> ['film', 'story', 'show', 'comedy', 'movie']\n",
            "\n",
            "\n",
            " \"Storyland\" (2009) \n",
            "comedy drama set present day kilkenny fragmented group old school frie...\n",
            "[0.05692567 0.         0.         0.04128239 0.01861187]\n",
            "\n",
            "\n",
            " Taming Jessica Lang (2007) \n",
            "world crazy place jessica life normal life mother father best give eve...\n",
            "[0.         0.0663297  0.         0.10737424 0.        ]\n",
            "\n",
            "\n",
            " America 101 (2005) \n",
            "two brothers leave home mexico search american dream realize front tim...\n",
            "[0.05516367 0.05281748 0.00150295 0.00759257 0.00745619]\n",
            "\n",
            "\n",
            " A Soul Enslaved (1916) \n",
            "tired poverty jane finally accepts advances ambrose wealthy owner fact...\n",
            "[0.02510755 0.01880838 0.06396621 0.00089226 0.        ]\n",
            "\n",
            "\n",
            " Straight Wedding (????) \n",
            "unique wedding comprised couple assume opposite gender roles takes dar...\n",
            "[0.03316394 0.02280769 0.         0.00488924 0.00626578]\n",
            "\n",
            "\n"
          ]
        }
      ]
    },
    {
      "cell_type": "markdown",
      "source": [
        "Melhor algoritmo: NMF"
      ],
      "metadata": {
        "id": "5g85K6ZDCtTH"
      }
    },
    {
      "cell_type": "markdown",
      "source": [
        "## Questão 4\n",
        "Realize um agrupamento dos dados seguindo os seguintes passos:\n",
        "\n",
        "a) Aplique o algoritmo PCA, preservando 95% da variância nos dados. Qual a\n",
        "dimensão resultante dos dados projetados?\n",
        "\n",
        "b) Aplique um algoritmo k-means nos dados projetados, usando o método elbow\n",
        "para encontrar o valor de k ótimo."
      ],
      "metadata": {
        "id": "cPGth4kkC4o6"
      }
    },
    {
      "cell_type": "code",
      "source": [
        "stemmer = nltk.stem.RSLPStemmer()\n",
        "dataset['stemmed_text'] = dataset.description.apply(lambda tokens: ' '.join([stemmer.stem(token) for token in tokens.split(' ')]))\n",
        "X = tfidf.fit_transform(dataset.stemmed_text)"
      ],
      "metadata": {
        "id": "YcHrJa9OCshf"
      },
      "execution_count": 62,
      "outputs": []
    },
    {
      "cell_type": "code",
      "source": [
        "Xproj = PCA(n_components=.95).fit_transform(X.toarray())"
      ],
      "metadata": {
        "id": "mqZ-VC5ODSko"
      },
      "execution_count": 63,
      "outputs": []
    },
    {
      "cell_type": "code",
      "source": [
        "Xproj.shape[1]"
      ],
      "metadata": {
        "colab": {
          "base_uri": "https://localhost:8080/"
        },
        "id": "oLXwIYBvDUbn",
        "outputId": "6a9562af-a569-450c-9c81-efba98cdd1f2"
      },
      "execution_count": 65,
      "outputs": [
        {
          "output_type": "execute_result",
          "data": {
            "text/plain": [
              "3799"
            ]
          },
          "metadata": {},
          "execution_count": 65
        }
      ]
    },
    {
      "cell_type": "code",
      "source": [
        "visualizer = KElbowVisualizer(KMeans(), k=(10, 25), metric='distortion')\n",
        "visualizer.fit(Xproj)\n",
        "visualizer.show()"
      ],
      "metadata": {
        "colab": {
          "base_uri": "https://localhost:8080/",
          "height": 393
        },
        "id": "WVNg2aBjDV5o",
        "outputId": "881af2e0-2881-4779-ce9e-42397701d1f7"
      },
      "execution_count": 66,
      "outputs": [
        {
          "output_type": "display_data",
          "data": {
            "text/plain": [
              "<Figure size 576x396 with 2 Axes>"
            ],
            "image/png": "[encoded data removed]"
          },
          "metadata": {}
        },
        {
          "output_type": "execute_result",
          "data": {
            "text/plain": [
              "<matplotlib.axes._subplots.AxesSubplot at 0x7fc9d7b28690>"
            ]
          },
          "metadata": {},
          "execution_count": 66
        }
      ]
    },
    {
      "cell_type": "code",
      "source": [
        "k = 13\n",
        "kmeans_proj = KMeans(n_clusters=k).fit(Xproj)"
      ],
      "metadata": {
        "id": "1FNNu1ZZKhfN"
      },
      "execution_count": 73,
      "outputs": []
    },
    {
      "cell_type": "code",
      "source": [
        "visualizer = KElbowVisualizer(KMeans(), k=(10, 25), metric='distortion')\n",
        "visualizer.fit(X)\n",
        "visualizer.show()"
      ],
      "metadata": {
        "colab": {
          "base_uri": "https://localhost:8080/",
          "height": 393
        },
        "id": "BmuAsVysKj6g",
        "outputId": "622fa8e0-1ebe-4e34-f99a-01ab70909762"
      },
      "execution_count": 74,
      "outputs": [
        {
          "output_type": "display_data",
          "data": {
            "text/plain": [
              "<Figure size 576x396 with 2 Axes>"
            ],
            "image/png": "[encoded data removed]"
          },
          "metadata": {}
        },
        {
          "output_type": "execute_result",
          "data": {
            "text/plain": [
              "<matplotlib.axes._subplots.AxesSubplot at 0x7fc9d7939290>"
            ]
          },
          "metadata": {},
          "execution_count": 74
        }
      ]
    },
    {
      "cell_type": "code",
      "source": [
        "k = 11\n",
        "kmeans = KMeans(n_clusters=k).fit(X)"
      ],
      "metadata": {
        "id": "n7YrSICfKkpD"
      },
      "execution_count": 75,
      "outputs": []
    },
    {
      "cell_type": "markdown",
      "source": [
        "## Questão 5\n",
        "Nesta questão você deve aplicar métodos de projeção multidimensional para visualizar os dados da segunda questão no espaço visual.\n",
        "\n",
        "a) aplique os métodos de projeção multidimensional t-SNE e UMAP nos dados resultantes da questão 2b, e plote os gráficos das projeções resultantes, codificando as cores dos pontos de acordo com os grupos obtidos pelo k-means.\n",
        "\n",
        "b) Experimente variar os hiperparâmetros perplexity do t-SNE e n neighbors\n",
        "do UMAP. O que acontece com as projeções quando estes parâmetros são\n",
        "calibrados para valores menores ou maiores do que seus valores padrão?\n",
        "\n",
        "c) Usando os melhores valores encontrados para perplexity e n neighbors,\n",
        "compare o tempo de execução e a qualidade visual da projeção dos 2 métodos\n",
        "de projeção multidimensional (t-SNE e UMAP). Qual abordagem se saiu\n",
        "melhor em cada um desses aspectos?"
      ],
      "metadata": {
        "id": "ZVfnIKKOFtgf"
      }
    },
    {
      "cell_type": "code",
      "source": [
        "start = time.time()\n",
        "X_tsne = TSNE(n_components = 2).fit_transform(Xproj)\n",
        "duration = time.time() - start"
      ],
      "metadata": {
        "id": "ja0z97faGNNH"
      },
      "execution_count": 64,
      "outputs": []
    },
    {
      "cell_type": "code",
      "source": [
        "print('%s segundos' %duration)"
      ],
      "metadata": {
        "colab": {
          "base_uri": "https://localhost:8080/"
        },
        "id": "JrFRWw3qHMCy",
        "outputId": "9eaf993a-90b8-4c58-f82b-ac5dbb149e06"
      },
      "execution_count": 67,
      "outputs": [
        {
          "output_type": "stream",
          "name": "stdout",
          "text": [
            "62.183706521987915 segundos\n"
          ]
        }
      ]
    },
    {
      "cell_type": "code",
      "source": [
        "palette = Category20[k]"
      ],
      "metadata": {
        "id": "0SePhxt8HN24"
      },
      "execution_count": 77,
      "outputs": []
    },
    {
      "cell_type": "code",
      "source": [
        "def scatter_plot(X, labels):\n",
        "  scatter_plot = figure(plot_width = 1000, plot_height = 500)\n",
        "  scatter_plot.circle(X[:, 0], X[:, 1], size = 10, line_color=[palette[l] for l in labels], \n",
        "                      fill_color=[palette[l] for l in labels], fill_alpha=.8)\n",
        "  show(scatter_plot)"
      ],
      "metadata": {
        "id": "eH2orztcHPzC"
      },
      "execution_count": 78,
      "outputs": []
    },
    {
      "cell_type": "code",
      "source": [
        "scatter_plot(X_tsne, kmeans.labels_)"
      ],
      "metadata": {
        "id": "ygdOGf8JHRxw"
      },
      "execution_count": 79,
      "outputs": []
    },
    {
      "cell_type": "code",
      "source": [
        "start = time.time()\n",
        "X_umap = umap.UMAP().fit_transform(Xproj)\n",
        "duration = time.time() - start"
      ],
      "metadata": {
        "id": "VY77qzaOHTQN"
      },
      "execution_count": 82,
      "outputs": []
    },
    {
      "cell_type": "code",
      "source": [
        "print('%s segundos' %duration)"
      ],
      "metadata": {
        "colab": {
          "base_uri": "https://localhost:8080/"
        },
        "id": "k9ZQRCcIHVRr",
        "outputId": "3182b96a-aac9-441b-a56b-fca26ca9f91c"
      },
      "execution_count": 84,
      "outputs": [
        {
          "output_type": "stream",
          "name": "stdout",
          "text": [
            "43.59550905227661 segundos\n"
          ]
        }
      ]
    },
    {
      "cell_type": "code",
      "source": [
        "scatter_plot(X_umap, kmeans.labels_)"
      ],
      "metadata": {
        "id": "xK4FLrhtHWzq"
      },
      "execution_count": 85,
      "outputs": []
    },
    {
      "cell_type": "markdown",
      "source": [
        "O melhor método de projeção multidimensional foi o TSNE."
      ],
      "metadata": {
        "id": "MScBnmrGHZXz"
      }
    },
    {
      "cell_type": "markdown",
      "source": [
        "Usando o TSNE nos dados não projetados:"
      ],
      "metadata": {
        "id": "_LN-CoZOHd0a"
      }
    },
    {
      "cell_type": "code",
      "source": [
        "start = time.time()\n",
        "X_tsne = TSNE(n_components = 2).fit_transform(X)\n",
        "duration = time.time() - start"
      ],
      "metadata": {
        "id": "CIMvkyduHdeR"
      },
      "execution_count": 86,
      "outputs": []
    },
    {
      "cell_type": "code",
      "source": [
        "print('%s segundos' %duration)"
      ],
      "metadata": {
        "colab": {
          "base_uri": "https://localhost:8080/"
        },
        "id": "3OyNypZlHiHd",
        "outputId": "11c66583-2e3b-4ec8-fca0-d5f9c7e39b83"
      },
      "execution_count": 87,
      "outputs": [
        {
          "output_type": "stream",
          "name": "stdout",
          "text": [
            "40.47003531455994 segundos\n"
          ]
        }
      ]
    },
    {
      "cell_type": "code",
      "source": [
        "scatter_plot(X_tsne, kmeans.labels_)"
      ],
      "metadata": {
        "id": "SCuDLYSUHkEL"
      },
      "execution_count": 92,
      "outputs": []
    },
    {
      "cell_type": "code",
      "source": [
        "dataset['label'] = kmeans.labels_"
      ],
      "metadata": {
        "id": "W3xsMqGGHmz4"
      },
      "execution_count": 89,
      "outputs": []
    },
    {
      "cell_type": "code",
      "source": [
        "def cluster_topic(dataset, cluster_label, n_words):\n",
        "  X = tfidf.fit_transform(dataset[dataset['label'] == cluster_label].processed_description)\n",
        "  nmf = NMF(n_components=1)\n",
        "  X_topics = nmf.fit_transform(X)\n",
        "  return get_top_words(0, n_words, tfidf.get_feature_names(), nmf)"
      ],
      "metadata": {
        "id": "IPwbmKjcHtMV"
      },
      "execution_count": 90,
      "outputs": []
    },
    {
      "cell_type": "code",
      "source": [
        "n_words = 10\n",
        "display(HTML('<h2>Top {} palavras de cada grupo</h2>'.format(n_words)))\n",
        "for label, color in enumerate(palette):\n",
        "  display(HTML('<h3><span style=\"color:{}\"><strong>Grupo {}: {}</strong></span></h3>'.format(color, label, ', '.join(cluster_topic(dataset, label, n_words)))))"
      ],
      "metadata": {
        "colab": {
          "base_uri": "https://localhost:8080/",
          "height": 468
        },
        "id": "bXD3jDrUHubJ",
        "outputId": "834059cf-d68f-4ba9-ab19-9271dfe9c275"
      },
      "execution_count": 91,
      "outputs": [
        {
          "output_type": "display_data",
          "data": {
            "text/plain": [
              "<IPython.core.display.HTML object>"
            ],
            "text/html": [
              "<h2>Top 10 palavras de cada grupo</h2>"
            ]
          },
          "metadata": {}
        },
        {
          "output_type": "display_data",
          "data": {
            "text/plain": [
              "<IPython.core.display.HTML object>"
            ],
            "text/html": [
              "<h3><span style=\"color:#1f77b4\"><strong>Grupo 0: war, prison, life, world, young, one, two, story, love, new</strong></span></h3>"
            ]
          },
          "metadata": {}
        },
        {
          "output_type": "display_data",
          "data": {
            "text/plain": [
              "<IPython.core.display.HTML object>"
            ],
            "text/html": [
              "<h3><span style=\"color:#aec7e8\"><strong>Grupo 1: father, mother, son, life, family, young, home, old, years, one</strong></span></h3>"
            ]
          },
          "metadata": {}
        },
        {
          "output_type": "display_data",
          "data": {
            "text/plain": [
              "<IPython.core.display.HTML object>"
            ],
            "text/html": [
              "<h3><span style=\"color:#ff7f0e\"><strong>Grupo 2: school, get, life, job, one, john, time, two, day, high</strong></span></h3>"
            ]
          },
          "metadata": {}
        },
        {
          "output_type": "display_data",
          "data": {
            "text/plain": [
              "<IPython.core.display.HTML object>"
            ],
            "text/html": [
              "<h3><span style=\"color:#ffbb78\"><strong>Grupo 3: show, comedy, tv, reality, one, shows, new, two, family, series</strong></span></h3>"
            ]
          },
          "metadata": {}
        },
        {
          "output_type": "display_data",
          "data": {
            "text/plain": [
              "<IPython.core.display.HTML object>"
            ],
            "text/html": [
              "<h3><span style=\"color:#2ca02c\"><strong>Grupo 4: de, et, la, les, en, le, qui, son, au, un</strong></span></h3>"
            ]
          },
          "metadata": {}
        },
        {
          "output_type": "display_data",
          "data": {
            "text/plain": [
              "<IPython.core.display.HTML object>"
            ],
            "text/html": [
              "<h3><span style=\"color:#98df8a\"><strong>Grupo 5: love, man, young, life, wife, woman, daughter, husband, falls, girl</strong></span></h3>"
            ]
          },
          "metadata": {}
        },
        {
          "output_type": "display_data",
          "data": {
            "text/plain": [
              "<IPython.core.display.HTML object>"
            ],
            "text/html": [
              "<h3><span style=\"color:#d62728\"><strong>Grupo 6: new, york, police, city, life, young, one, three, story, two</strong></span></h3>"
            ]
          },
          "metadata": {}
        },
        {
          "output_type": "display_data",
          "data": {
            "text/plain": [
              "<IPython.core.display.HTML object>"
            ],
            "text/html": [
              "<h3><span style=\"color:#ff9896\"><strong>Grupo 7: family, son, woman, young, home, wife, one, man, american, years</strong></span></h3>"
            ]
          },
          "metadata": {}
        },
        {
          "output_type": "display_data",
          "data": {
            "text/plain": [
              "<IPython.core.display.HTML object>"
            ],
            "text/html": [
              "<h3><span style=\"color:#9467bd\"><strong>Grupo 8: film, story, movie, films, director, young, one, life, people, two</strong></span></h3>"
            ]
          },
          "metadata": {}
        },
        {
          "output_type": "display_data",
          "data": {
            "text/plain": [
              "<IPython.core.display.HTML object>"
            ],
            "text/html": [
              "<h3><span style=\"color:#c5b0d5\"><strong>Grupo 9: one, life, two, friends, girl, lives, young, friend, old, girls</strong></span></h3>"
            ]
          },
          "metadata": {}
        },
        {
          "output_type": "display_data",
          "data": {
            "text/plain": [
              "<IPython.core.display.HTML object>"
            ],
            "text/html": [
              "<h3><span style=\"color:#8c564b\"><strong>Grupo 10: life, story, world, people, one, young, family, lives, man, way</strong></span></h3>"
            ]
          },
          "metadata": {}
        }
      ]
    }
  ],
  "metadata": {
    "colab": {
      "collapsed_sections": [],
      "provenance": []
    },
    "kernelspec": {
      "display_name": "Python 3",
      "name": "python3"
    },
    "language_info": {
      "name": "python"
    }
  },
  "nbformat": 4,
  "nbformat_minor": 0
}